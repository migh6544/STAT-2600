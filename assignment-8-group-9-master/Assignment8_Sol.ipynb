{
 "cells": [
  {
   "cell_type": "markdown",
   "metadata": {},
   "source": [
    "# Assignment 8 (10 Points): Pandas"
   ]
  },
  {
   "cell_type": "code",
   "execution_count": 1,
   "metadata": {},
   "outputs": [],
   "source": [
    "import numpy as np\n",
    "import pandas as pd\n",
    "\n",
    "%matplotlib inline\n",
    "import matplotlib.pyplot as plt"
   ]
  },
  {
   "cell_type": "code",
   "execution_count": 2,
   "metadata": {},
   "outputs": [],
   "source": [
    "flights = pd.read_csv('data/flights.csv')\n",
    "airports = pd.read_csv('data/airports.csv')"
   ]
  },
  {
   "cell_type": "markdown",
   "metadata": {},
   "source": [
    "### Q1 (3 points): Reverse engineer the following dataframe by merging the flights and airports datasets."
   ]
  },
  {
   "cell_type": "code",
   "execution_count": 3,
   "metadata": {
    "scrolled": true
   },
   "outputs": [
    {
     "data": {
      "text/html": [
       "<div>\n",
       "<style scoped>\n",
       "    .dataframe tbody tr th:only-of-type {\n",
       "        vertical-align: middle;\n",
       "    }\n",
       "\n",
       "    .dataframe tbody tr th {\n",
       "        vertical-align: top;\n",
       "    }\n",
       "\n",
       "    .dataframe thead th {\n",
       "        text-align: right;\n",
       "    }\n",
       "</style>\n",
       "<table border=\"1\" class=\"dataframe\">\n",
       "  <thead>\n",
       "    <tr style=\"text-align: right;\">\n",
       "      <th></th>\n",
       "      <th>origin</th>\n",
       "      <th>dest</th>\n",
       "      <th>tailnum</th>\n",
       "      <th>origin_name</th>\n",
       "      <th>dest_name</th>\n",
       "    </tr>\n",
       "  </thead>\n",
       "  <tbody>\n",
       "    <tr>\n",
       "      <td>0</td>\n",
       "      <td>EWR</td>\n",
       "      <td>IAH</td>\n",
       "      <td>N14228</td>\n",
       "      <td>Newark Liberty Intl</td>\n",
       "      <td>George Bush Intercontinental</td>\n",
       "    </tr>\n",
       "    <tr>\n",
       "      <td>1</td>\n",
       "      <td>EWR</td>\n",
       "      <td>IAH</td>\n",
       "      <td>N37408</td>\n",
       "      <td>Newark Liberty Intl</td>\n",
       "      <td>George Bush Intercontinental</td>\n",
       "    </tr>\n",
       "    <tr>\n",
       "      <td>2</td>\n",
       "      <td>EWR</td>\n",
       "      <td>IAH</td>\n",
       "      <td>N12216</td>\n",
       "      <td>Newark Liberty Intl</td>\n",
       "      <td>George Bush Intercontinental</td>\n",
       "    </tr>\n",
       "    <tr>\n",
       "      <td>3</td>\n",
       "      <td>EWR</td>\n",
       "      <td>IAH</td>\n",
       "      <td>N667UA</td>\n",
       "      <td>Newark Liberty Intl</td>\n",
       "      <td>George Bush Intercontinental</td>\n",
       "    </tr>\n",
       "    <tr>\n",
       "      <td>4</td>\n",
       "      <td>EWR</td>\n",
       "      <td>IAH</td>\n",
       "      <td>N39418</td>\n",
       "      <td>Newark Liberty Intl</td>\n",
       "      <td>George Bush Intercontinental</td>\n",
       "    </tr>\n",
       "    <tr>\n",
       "      <td>...</td>\n",
       "      <td>...</td>\n",
       "      <td>...</td>\n",
       "      <td>...</td>\n",
       "      <td>...</td>\n",
       "      <td>...</td>\n",
       "    </tr>\n",
       "    <tr>\n",
       "      <td>329169</td>\n",
       "      <td>JFK</td>\n",
       "      <td>MVY</td>\n",
       "      <td>N283JB</td>\n",
       "      <td>John F Kennedy Intl</td>\n",
       "      <td>Martha\\\\'s Vineyard</td>\n",
       "    </tr>\n",
       "    <tr>\n",
       "      <td>329170</td>\n",
       "      <td>JFK</td>\n",
       "      <td>MVY</td>\n",
       "      <td>N358JB</td>\n",
       "      <td>John F Kennedy Intl</td>\n",
       "      <td>Martha\\\\'s Vineyard</td>\n",
       "    </tr>\n",
       "    <tr>\n",
       "      <td>329171</td>\n",
       "      <td>JFK</td>\n",
       "      <td>MVY</td>\n",
       "      <td>N267JB</td>\n",
       "      <td>John F Kennedy Intl</td>\n",
       "      <td>Martha\\\\'s Vineyard</td>\n",
       "    </tr>\n",
       "    <tr>\n",
       "      <td>329172</td>\n",
       "      <td>JFK</td>\n",
       "      <td>MVY</td>\n",
       "      <td>N329JB</td>\n",
       "      <td>John F Kennedy Intl</td>\n",
       "      <td>Martha\\\\'s Vineyard</td>\n",
       "    </tr>\n",
       "    <tr>\n",
       "      <td>329173</td>\n",
       "      <td>JFK</td>\n",
       "      <td>MVY</td>\n",
       "      <td>N281JB</td>\n",
       "      <td>John F Kennedy Intl</td>\n",
       "      <td>Martha\\\\'s Vineyard</td>\n",
       "    </tr>\n",
       "  </tbody>\n",
       "</table>\n",
       "<p>329174 rows × 5 columns</p>\n",
       "</div>"
      ],
      "text/plain": [
       "       origin dest tailnum          origin_name                     dest_name\n",
       "0         EWR  IAH  N14228  Newark Liberty Intl  George Bush Intercontinental\n",
       "1         EWR  IAH  N37408  Newark Liberty Intl  George Bush Intercontinental\n",
       "2         EWR  IAH  N12216  Newark Liberty Intl  George Bush Intercontinental\n",
       "3         EWR  IAH  N667UA  Newark Liberty Intl  George Bush Intercontinental\n",
       "4         EWR  IAH  N39418  Newark Liberty Intl  George Bush Intercontinental\n",
       "...       ...  ...     ...                  ...                           ...\n",
       "329169    JFK  MVY  N283JB  John F Kennedy Intl           Martha\\\\'s Vineyard\n",
       "329170    JFK  MVY  N358JB  John F Kennedy Intl           Martha\\\\'s Vineyard\n",
       "329171    JFK  MVY  N267JB  John F Kennedy Intl           Martha\\\\'s Vineyard\n",
       "329172    JFK  MVY  N329JB  John F Kennedy Intl           Martha\\\\'s Vineyard\n",
       "329173    JFK  MVY  N281JB  John F Kennedy Intl           Martha\\\\'s Vineyard\n",
       "\n",
       "[329174 rows x 5 columns]"
      ]
     },
     "execution_count": 3,
     "metadata": {},
     "output_type": "execute_result"
    }
   ],
   "source": [
    "#Merging airports and flights data set by the FAA airport code\n",
    "flights.join(airports)\n",
    "merged_DF = flights[['origin', 'dest', 'tailnum']].merge(airports[['name', 'faa']], left_on = 'origin', right_on = 'faa')\n",
    "merged_DF = merged_DF.drop('faa', axis = 'columns').rename(columns = {'name':'origin_name'})\n",
    "merged_DF = merged_DF.merge(airports[['name','faa']], left_on = 'dest', right_on = 'faa')\n",
    "merged_DF = merged_DF.drop('faa', axis = 'columns').rename(columns = {'name':'dest_name'})\n",
    "merged_DF"
   ]
  },
  {
   "cell_type": "markdown",
   "metadata": {},
   "source": [
    "### Q2 (4 points): Use the resulting dataframe from Q1 to reverse engineer the following results (i.e., sorting the count of flights between the origin and destination airports)."
   ]
  },
  {
   "cell_type": "code",
   "execution_count": 4,
   "metadata": {
    "scrolled": false
   },
   "outputs": [
    {
     "data": {
      "text/html": [
       "<div>\n",
       "<style scoped>\n",
       "    .dataframe tbody tr th:only-of-type {\n",
       "        vertical-align: middle;\n",
       "    }\n",
       "\n",
       "    .dataframe tbody tr th {\n",
       "        vertical-align: top;\n",
       "    }\n",
       "\n",
       "    .dataframe thead th {\n",
       "        text-align: right;\n",
       "    }\n",
       "</style>\n",
       "<table border=\"1\" class=\"dataframe\">\n",
       "  <thead>\n",
       "    <tr style=\"text-align: right;\">\n",
       "      <th></th>\n",
       "      <th></th>\n",
       "      <th>tailnum</th>\n",
       "    </tr>\n",
       "    <tr>\n",
       "      <th>origin_name</th>\n",
       "      <th>dest_name</th>\n",
       "      <th></th>\n",
       "    </tr>\n",
       "  </thead>\n",
       "  <tbody>\n",
       "    <tr>\n",
       "      <td>John F Kennedy Intl</td>\n",
       "      <td>Los Angeles Intl</td>\n",
       "      <td>11237</td>\n",
       "    </tr>\n",
       "    <tr>\n",
       "      <td rowspan=\"2\" valign=\"top\">La Guardia</td>\n",
       "      <td>Hartsfield Jackson Atlanta Intl</td>\n",
       "      <td>10262</td>\n",
       "    </tr>\n",
       "    <tr>\n",
       "      <td>Chicago Ohare Intl</td>\n",
       "      <td>8717</td>\n",
       "    </tr>\n",
       "    <tr>\n",
       "      <td>John F Kennedy Intl</td>\n",
       "      <td>San Francisco Intl</td>\n",
       "      <td>8174</td>\n",
       "    </tr>\n",
       "    <tr>\n",
       "      <td>La Guardia</td>\n",
       "      <td>Charlotte Douglas Intl</td>\n",
       "      <td>6114</td>\n",
       "    </tr>\n",
       "    <tr>\n",
       "      <td>...</td>\n",
       "      <td>...</td>\n",
       "      <td>...</td>\n",
       "    </tr>\n",
       "    <tr>\n",
       "      <td rowspan=\"3\" valign=\"top\">John F Kennedy Intl</td>\n",
       "      <td>Memphis Intl</td>\n",
       "      <td>1</td>\n",
       "    </tr>\n",
       "    <tr>\n",
       "      <td>Lambert St Louis Intl</td>\n",
       "      <td>1</td>\n",
       "    </tr>\n",
       "    <tr>\n",
       "      <td>Birmingham Intl</td>\n",
       "      <td>1</td>\n",
       "    </tr>\n",
       "    <tr>\n",
       "      <td>La Guardia</td>\n",
       "      <td>Blue Grass</td>\n",
       "      <td>1</td>\n",
       "    </tr>\n",
       "    <tr>\n",
       "      <td>Newark Liberty Intl</td>\n",
       "      <td>La Guardia</td>\n",
       "      <td>0</td>\n",
       "    </tr>\n",
       "  </tbody>\n",
       "</table>\n",
       "<p>217 rows × 1 columns</p>\n",
       "</div>"
      ],
      "text/plain": [
       "                                                     tailnum\n",
       "origin_name         dest_name                               \n",
       "John F Kennedy Intl Los Angeles Intl                   11237\n",
       "La Guardia          Hartsfield Jackson Atlanta Intl    10262\n",
       "                    Chicago Ohare Intl                  8717\n",
       "John F Kennedy Intl San Francisco Intl                  8174\n",
       "La Guardia          Charlotte Douglas Intl              6114\n",
       "...                                                      ...\n",
       "John F Kennedy Intl Memphis Intl                           1\n",
       "                    Lambert St Louis Intl                  1\n",
       "                    Birmingham Intl                        1\n",
       "La Guardia          Blue Grass                             1\n",
       "Newark Liberty Intl La Guardia                             0\n",
       "\n",
       "[217 rows x 1 columns]"
      ]
     },
     "execution_count": 4,
     "metadata": {},
     "output_type": "execute_result"
    }
   ],
   "source": [
    "#Using dataframe created above, and counting the number of unique flights between each origin and destination\n",
    "group_SO = merged_DF.groupby(['origin_name', 'dest_name'])['tailnum'].agg(['count'])\n",
    "group_SO.sort_values(by = 'count', ascending = False).rename(columns = {'count':'tailnum'})"
   ]
  },
  {
   "cell_type": "markdown",
   "metadata": {},
   "source": [
    "### Q3 (3 points): Compute and plot the rolling mean and standard deviation of the price ratio between GOOG and NASDAQ.\n",
    "\n",
    "- UCB stands for Upper Confidence Bound and is computed using mean + std.\n",
    "- LCB stands for Lower Confidence Bound and is computed using mean - std."
   ]
  },
  {
   "cell_type": "code",
   "execution_count": 5,
   "metadata": {},
   "outputs": [],
   "source": [
    "GOOG = pd.read_csv('data/GOOG.csv', index_col = 0, parse_dates = ['Date'])\n",
    "NASDAQ = pd.read_csv('data/NASDAQ.csv', index_col = 0, parse_dates = ['Date'])\n",
    "\n",
    "GOOG = GOOG['Close']\n",
    "NASDAQ = NASDAQ['Close']"
   ]
  },
  {
   "cell_type": "code",
   "execution_count": 14,
   "metadata": {},
   "outputs": [],
   "source": [
    "ratio = GOOG/NASDAQ\n",
    "#ratio between Google and Nasdaq\n",
    "\n",
    "rolling_mean = ratio.rolling(window = 252, center = True).mean()\n",
    "#rolling mean over 252 trading days in a year\n",
    "\n",
    "std = ratio.rolling(window = 252, center = True).std()\n",
    "#rolling standard deviation over 252 trading days in a year\n",
    "\n",
    "UCB = rolling_mean + std\n",
    "#mean + standard deviation\n",
    "\n",
    "LCB = rolling_mean - std\n",
    "#mean - standard deviation\n"
   ]
  },
  {
   "cell_type": "code",
   "execution_count": 39,
   "metadata": {
    "scrolled": true
   },
   "outputs": [
    {
     "data": {
      "image/png": "[encoded data removed]",
      "text/plain": [
       "<Figure size 432x288 with 1 Axes>"
      ]
     },
     "metadata": {
      "needs_background": "light"
     },
     "output_type": "display_data"
    }
   ],
   "source": [
    "plt.plot(ratio, color = '#7B8CE2')\n",
    "plt.plot(rolling_mean, 'r--')\n",
    "plt.plot(UCB, 'k:')\n",
    "plt.plot(LCB, 'k:')\n",
    "#plotting values with desired linetypes and colors\n",
    "\n",
    "plt.legend([\"input\",'one-year rolling_mean','one-year rolling_UCB','one-year rolling_UCB'], loc = \"lower right\")\n",
    "#adding legend with lables as specified\n",
    "\n",
    "plt.xlabel('Date')\n",
    "\n",
    "plt.show()"
   ]
  },
  {
   "cell_type": "code",
   "execution_count": null,
   "metadata": {},
   "outputs": [],
   "source": []
  }
 ],
 "metadata": {
  "kernelspec": {
   "display_name": "Python 3",
   "language": "python",
   "name": "python3"
  },
  "language_info": {
   "codemirror_mode": {
    "name": "ipython",
    "version": 3
   },
   "file_extension": ".py",
   "mimetype": "text/x-python",
   "name": "python",
   "nbconvert_exporter": "python",
   "pygments_lexer": "ipython3",
   "version": "3.7.4"
  }
 },
 "nbformat": 4,
 "nbformat_minor": 2
}
