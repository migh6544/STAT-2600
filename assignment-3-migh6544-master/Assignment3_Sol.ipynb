{
 "cells": [
  {
   "cell_type": "code",
   "execution_count": 1,
   "metadata": {},
   "outputs": [
    {
     "name": "stderr",
     "output_type": "stream",
     "text": [
      "── Attaching packages ─────────────────────────────────────── tidyverse 1.3.0 ──\n",
      "✔ ggplot2 3.2.1     ✔ purrr   0.3.3\n",
      "✔ tibble  2.1.3     ✔ dplyr   0.8.3\n",
      "✔ tidyr   1.0.0     ✔ stringr 1.4.0\n",
      "✔ readr   1.3.1     ✔ forcats 0.4.0\n",
      "── Conflicts ────────────────────────────────────────── tidyverse_conflicts() ──\n",
      "✖ dplyr::filter() masks stats::filter()\n",
      "✖ dplyr::lag()    masks stats::lag()\n"
     ]
    }
   ],
   "source": [
    "library(\"tidyverse\")"
   ]
  },
  {
   "cell_type": "code",
   "execution_count": 2,
   "metadata": {},
   "outputs": [],
   "source": [
    "library(nycflights13)"
   ]
  },
  {
   "cell_type": "code",
   "execution_count": 3,
   "metadata": {},
   "outputs": [
    {
     "name": "stdout",
     "output_type": "stream",
     "text": [
      "# A tibble: 336,776 x 19\n",
      "    year month   day dep_time sched_dep_time dep_delay arr_time sched_arr_time\n",
      "   <int> <int> <int>    <int>          <int>     <dbl>    <int>          <int>\n",
      " 1  2013     1     1      517            515         2      830            819\n",
      " 2  2013     1     1      533            529         4      850            830\n",
      " 3  2013     1     1      542            540         2      923            850\n",
      " 4  2013     1     1      544            545        -1     1004           1022\n",
      " 5  2013     1     1      554            600        -6      812            837\n",
      " 6  2013     1     1      554            558        -4      740            728\n",
      " 7  2013     1     1      555            600        -5      913            854\n",
      " 8  2013     1     1      557            600        -3      709            723\n",
      " 9  2013     1     1      557            600        -3      838            846\n",
      "10  2013     1     1      558            600        -2      753            745\n",
      "# … with 336,766 more rows, and 11 more variables: arr_delay <dbl>,\n",
      "#   carrier <chr>, flight <int>, tailnum <chr>, origin <chr>, dest <chr>,\n",
      "#   air_time <dbl>, distance <dbl>, hour <dbl>, minute <dbl>, time_hour <dttm>\n"
     ]
    },
    {
     "data": {
      "text/html": [
       "<table>\n",
       "<thead><tr><th scope=col>year</th><th scope=col>month</th><th scope=col>day</th><th scope=col>dep_time</th><th scope=col>sched_dep_time</th><th scope=col>dep_delay</th><th scope=col>arr_time</th><th scope=col>sched_arr_time</th><th scope=col>arr_delay</th><th scope=col>carrier</th><th scope=col>flight</th><th scope=col>tailnum</th><th scope=col>origin</th><th scope=col>dest</th><th scope=col>air_time</th><th scope=col>distance</th><th scope=col>hour</th><th scope=col>minute</th><th scope=col>time_hour</th></tr></thead>\n",
       "<tbody>\n",
       "\t<tr><td>2013               </td><td>1                  </td><td>1                  </td><td>517                </td><td>515                </td><td> 2                 </td><td> 830               </td><td> 819               </td><td> 11                </td><td>UA                 </td><td>1545               </td><td>N14228             </td><td>EWR                </td><td>IAH                </td><td>227                </td><td>1400               </td><td>5                  </td><td>15                 </td><td>2013-01-01 05:00:00</td></tr>\n",
       "\t<tr><td>2013               </td><td>1                  </td><td>1                  </td><td>533                </td><td>529                </td><td> 4                 </td><td> 850               </td><td> 830               </td><td> 20                </td><td>UA                 </td><td>1714               </td><td>N24211             </td><td>LGA                </td><td>IAH                </td><td>227                </td><td>1416               </td><td>5                  </td><td>29                 </td><td>2013-01-01 05:00:00</td></tr>\n",
       "\t<tr><td>2013               </td><td>1                  </td><td>1                  </td><td>542                </td><td>540                </td><td> 2                 </td><td> 923               </td><td> 850               </td><td> 33                </td><td>AA                 </td><td>1141               </td><td>N619AA             </td><td>JFK                </td><td>MIA                </td><td>160                </td><td>1089               </td><td>5                  </td><td>40                 </td><td>2013-01-01 05:00:00</td></tr>\n",
       "\t<tr><td>2013               </td><td>1                  </td><td>1                  </td><td>544                </td><td>545                </td><td>-1                 </td><td>1004               </td><td>1022               </td><td>-18                </td><td>B6                 </td><td> 725               </td><td>N804JB             </td><td>JFK                </td><td>BQN                </td><td>183                </td><td>1576               </td><td>5                  </td><td>45                 </td><td>2013-01-01 05:00:00</td></tr>\n",
       "\t<tr><td>2013               </td><td>1                  </td><td>1                  </td><td>554                </td><td>600                </td><td>-6                 </td><td> 812               </td><td> 837               </td><td>-25                </td><td>DL                 </td><td> 461               </td><td>N668DN             </td><td>LGA                </td><td>ATL                </td><td>116                </td><td> 762               </td><td>6                  </td><td> 0                 </td><td>2013-01-01 06:00:00</td></tr>\n",
       "</tbody>\n",
       "</table>\n"
      ],
      "text/latex": [
       "\\begin{tabular}{r|lllllllllllllllllll}\n",
       " year & month & day & dep\\_time & sched\\_dep\\_time & dep\\_delay & arr\\_time & sched\\_arr\\_time & arr\\_delay & carrier & flight & tailnum & origin & dest & air\\_time & distance & hour & minute & time\\_hour\\\\\n",
       "\\hline\n",
       "\t 2013                & 1                   & 1                   & 517                 & 515                 &  2                  &  830                &  819                &  11                 & UA                  & 1545                & N14228              & EWR                 & IAH                 & 227                 & 1400                & 5                   & 15                  & 2013-01-01 05:00:00\\\\\n",
       "\t 2013                & 1                   & 1                   & 533                 & 529                 &  4                  &  850                &  830                &  20                 & UA                  & 1714                & N24211              & LGA                 & IAH                 & 227                 & 1416                & 5                   & 29                  & 2013-01-01 05:00:00\\\\\n",
       "\t 2013                & 1                   & 1                   & 542                 & 540                 &  2                  &  923                &  850                &  33                 & AA                  & 1141                & N619AA              & JFK                 & MIA                 & 160                 & 1089                & 5                   & 40                  & 2013-01-01 05:00:00\\\\\n",
       "\t 2013                & 1                   & 1                   & 544                 & 545                 & -1                  & 1004                & 1022                & -18                 & B6                  &  725                & N804JB              & JFK                 & BQN                 & 183                 & 1576                & 5                   & 45                  & 2013-01-01 05:00:00\\\\\n",
       "\t 2013                & 1                   & 1                   & 554                 & 600                 & -6                  &  812                &  837                & -25                 & DL                  &  461                & N668DN              & LGA                 & ATL                 & 116                 &  762                & 6                   &  0                  & 2013-01-01 06:00:00\\\\\n",
       "\\end{tabular}\n"
      ],
      "text/markdown": [
       "\n",
       "| year | month | day | dep_time | sched_dep_time | dep_delay | arr_time | sched_arr_time | arr_delay | carrier | flight | tailnum | origin | dest | air_time | distance | hour | minute | time_hour |\n",
       "|---|---|---|---|---|---|---|---|---|---|---|---|---|---|---|---|---|---|---|\n",
       "| 2013                | 1                   | 1                   | 517                 | 515                 |  2                  |  830                |  819                |  11                 | UA                  | 1545                | N14228              | EWR                 | IAH                 | 227                 | 1400                | 5                   | 15                  | 2013-01-01 05:00:00 |\n",
       "| 2013                | 1                   | 1                   | 533                 | 529                 |  4                  |  850                |  830                |  20                 | UA                  | 1714                | N24211              | LGA                 | IAH                 | 227                 | 1416                | 5                   | 29                  | 2013-01-01 05:00:00 |\n",
       "| 2013                | 1                   | 1                   | 542                 | 540                 |  2                  |  923                |  850                |  33                 | AA                  | 1141                | N619AA              | JFK                 | MIA                 | 160                 | 1089                | 5                   | 40                  | 2013-01-01 05:00:00 |\n",
       "| 2013                | 1                   | 1                   | 544                 | 545                 | -1                  | 1004                | 1022                | -18                 | B6                  |  725                | N804JB              | JFK                 | BQN                 | 183                 | 1576                | 5                   | 45                  | 2013-01-01 05:00:00 |\n",
       "| 2013                | 1                   | 1                   | 554                 | 600                 | -6                  |  812                |  837                | -25                 | DL                  |  461                | N668DN              | LGA                 | ATL                 | 116                 |  762                | 6                   |  0                  | 2013-01-01 06:00:00 |\n",
       "\n"
      ],
      "text/plain": [
       "  year month day dep_time sched_dep_time dep_delay arr_time sched_arr_time\n",
       "1 2013 1     1   517      515             2         830      819          \n",
       "2 2013 1     1   533      529             4         850      830          \n",
       "3 2013 1     1   542      540             2         923      850          \n",
       "4 2013 1     1   544      545            -1        1004     1022          \n",
       "5 2013 1     1   554      600            -6         812      837          \n",
       "  arr_delay carrier flight tailnum origin dest air_time distance hour minute\n",
       "1  11       UA      1545   N14228  EWR    IAH  227      1400     5    15    \n",
       "2  20       UA      1714   N24211  LGA    IAH  227      1416     5    29    \n",
       "3  33       AA      1141   N619AA  JFK    MIA  160      1089     5    40    \n",
       "4 -18       B6       725   N804JB  JFK    BQN  183      1576     5    45    \n",
       "5 -25       DL       461   N668DN  LGA    ATL  116       762     6     0    \n",
       "  time_hour          \n",
       "1 2013-01-01 05:00:00\n",
       "2 2013-01-01 05:00:00\n",
       "3 2013-01-01 05:00:00\n",
       "4 2013-01-01 05:00:00\n",
       "5 2013-01-01 06:00:00"
      ]
     },
     "metadata": {},
     "output_type": "display_data"
    },
    {
     "data": {
      "text/html": [
       "<table>\n",
       "<thead><tr><th scope=col>year</th><th scope=col>month</th><th scope=col>day</th><th scope=col>dep_time</th><th scope=col>sched_dep_time</th><th scope=col>dep_delay</th><th scope=col>arr_time</th><th scope=col>sched_arr_time</th><th scope=col>arr_delay</th><th scope=col>carrier</th><th scope=col>flight</th><th scope=col>tailnum</th><th scope=col>origin</th><th scope=col>dest</th><th scope=col>air_time</th><th scope=col>distance</th><th scope=col>hour</th><th scope=col>minute</th><th scope=col>time_hour</th></tr></thead>\n",
       "<tbody>\n",
       "\t<tr><td>2013               </td><td>9                  </td><td>30                 </td><td>NA                 </td><td>1455               </td><td>NA                 </td><td>NA                 </td><td>1634               </td><td>NA                 </td><td>9E                 </td><td>3393               </td><td>NA                 </td><td>JFK                </td><td>DCA                </td><td>NA                 </td><td>213                </td><td>14                 </td><td>55                 </td><td>2013-09-30 14:00:00</td></tr>\n",
       "\t<tr><td>2013               </td><td>9                  </td><td>30                 </td><td>NA                 </td><td>2200               </td><td>NA                 </td><td>NA                 </td><td>2312               </td><td>NA                 </td><td>9E                 </td><td>3525               </td><td>NA                 </td><td>LGA                </td><td>SYR                </td><td>NA                 </td><td>198                </td><td>22                 </td><td> 0                 </td><td>2013-09-30 22:00:00</td></tr>\n",
       "\t<tr><td>2013               </td><td>9                  </td><td>30                 </td><td>NA                 </td><td>1210               </td><td>NA                 </td><td>NA                 </td><td>1330               </td><td>NA                 </td><td>MQ                 </td><td>3461               </td><td>N535MQ             </td><td>LGA                </td><td>BNA                </td><td>NA                 </td><td>764                </td><td>12                 </td><td>10                 </td><td>2013-09-30 12:00:00</td></tr>\n",
       "\t<tr><td>2013               </td><td>9                  </td><td>30                 </td><td>NA                 </td><td>1159               </td><td>NA                 </td><td>NA                 </td><td>1344               </td><td>NA                 </td><td>MQ                 </td><td>3572               </td><td>N511MQ             </td><td>LGA                </td><td>CLE                </td><td>NA                 </td><td>419                </td><td>11                 </td><td>59                 </td><td>2013-09-30 11:00:00</td></tr>\n",
       "\t<tr><td>2013               </td><td>9                  </td><td>30                 </td><td>NA                 </td><td> 840               </td><td>NA                 </td><td>NA                 </td><td>1020               </td><td>NA                 </td><td>MQ                 </td><td>3531               </td><td>N839MQ             </td><td>LGA                </td><td>RDU                </td><td>NA                 </td><td>431                </td><td> 8                 </td><td>40                 </td><td>2013-09-30 08:00:00</td></tr>\n",
       "</tbody>\n",
       "</table>\n"
      ],
      "text/latex": [
       "\\begin{tabular}{r|lllllllllllllllllll}\n",
       " year & month & day & dep\\_time & sched\\_dep\\_time & dep\\_delay & arr\\_time & sched\\_arr\\_time & arr\\_delay & carrier & flight & tailnum & origin & dest & air\\_time & distance & hour & minute & time\\_hour\\\\\n",
       "\\hline\n",
       "\t 2013                & 9                   & 30                  & NA                  & 1455                & NA                  & NA                  & 1634                & NA                  & 9E                  & 3393                & NA                  & JFK                 & DCA                 & NA                  & 213                 & 14                  & 55                  & 2013-09-30 14:00:00\\\\\n",
       "\t 2013                & 9                   & 30                  & NA                  & 2200                & NA                  & NA                  & 2312                & NA                  & 9E                  & 3525                & NA                  & LGA                 & SYR                 & NA                  & 198                 & 22                  &  0                  & 2013-09-30 22:00:00\\\\\n",
       "\t 2013                & 9                   & 30                  & NA                  & 1210                & NA                  & NA                  & 1330                & NA                  & MQ                  & 3461                & N535MQ              & LGA                 & BNA                 & NA                  & 764                 & 12                  & 10                  & 2013-09-30 12:00:00\\\\\n",
       "\t 2013                & 9                   & 30                  & NA                  & 1159                & NA                  & NA                  & 1344                & NA                  & MQ                  & 3572                & N511MQ              & LGA                 & CLE                 & NA                  & 419                 & 11                  & 59                  & 2013-09-30 11:00:00\\\\\n",
       "\t 2013                & 9                   & 30                  & NA                  &  840                & NA                  & NA                  & 1020                & NA                  & MQ                  & 3531                & N839MQ              & LGA                 & RDU                 & NA                  & 431                 &  8                  & 40                  & 2013-09-30 08:00:00\\\\\n",
       "\\end{tabular}\n"
      ],
      "text/markdown": [
       "\n",
       "| year | month | day | dep_time | sched_dep_time | dep_delay | arr_time | sched_arr_time | arr_delay | carrier | flight | tailnum | origin | dest | air_time | distance | hour | minute | time_hour |\n",
       "|---|---|---|---|---|---|---|---|---|---|---|---|---|---|---|---|---|---|---|\n",
       "| 2013                | 9                   | 30                  | NA                  | 1455                | NA                  | NA                  | 1634                | NA                  | 9E                  | 3393                | NA                  | JFK                 | DCA                 | NA                  | 213                 | 14                  | 55                  | 2013-09-30 14:00:00 |\n",
       "| 2013                | 9                   | 30                  | NA                  | 2200                | NA                  | NA                  | 2312                | NA                  | 9E                  | 3525                | NA                  | LGA                 | SYR                 | NA                  | 198                 | 22                  |  0                  | 2013-09-30 22:00:00 |\n",
       "| 2013                | 9                   | 30                  | NA                  | 1210                | NA                  | NA                  | 1330                | NA                  | MQ                  | 3461                | N535MQ              | LGA                 | BNA                 | NA                  | 764                 | 12                  | 10                  | 2013-09-30 12:00:00 |\n",
       "| 2013                | 9                   | 30                  | NA                  | 1159                | NA                  | NA                  | 1344                | NA                  | MQ                  | 3572                | N511MQ              | LGA                 | CLE                 | NA                  | 419                 | 11                  | 59                  | 2013-09-30 11:00:00 |\n",
       "| 2013                | 9                   | 30                  | NA                  |  840                | NA                  | NA                  | 1020                | NA                  | MQ                  | 3531                | N839MQ              | LGA                 | RDU                 | NA                  | 431                 |  8                  | 40                  | 2013-09-30 08:00:00 |\n",
       "\n"
      ],
      "text/plain": [
       "  year month day dep_time sched_dep_time dep_delay arr_time sched_arr_time\n",
       "1 2013 9     30  NA       1455           NA        NA       1634          \n",
       "2 2013 9     30  NA       2200           NA        NA       2312          \n",
       "3 2013 9     30  NA       1210           NA        NA       1330          \n",
       "4 2013 9     30  NA       1159           NA        NA       1344          \n",
       "5 2013 9     30  NA        840           NA        NA       1020          \n",
       "  arr_delay carrier flight tailnum origin dest air_time distance hour minute\n",
       "1 NA        9E      3393   NA      JFK    DCA  NA       213      14   55    \n",
       "2 NA        9E      3525   NA      LGA    SYR  NA       198      22    0    \n",
       "3 NA        MQ      3461   N535MQ  LGA    BNA  NA       764      12   10    \n",
       "4 NA        MQ      3572   N511MQ  LGA    CLE  NA       419      11   59    \n",
       "5 NA        MQ      3531   N839MQ  LGA    RDU  NA       431       8   40    \n",
       "  time_hour          \n",
       "1 2013-09-30 14:00:00\n",
       "2 2013-09-30 22:00:00\n",
       "3 2013-09-30 12:00:00\n",
       "4 2013-09-30 11:00:00\n",
       "5 2013-09-30 08:00:00"
      ]
     },
     "metadata": {},
     "output_type": "display_data"
    },
    {
     "data": {
      "text/html": [
       "<table>\n",
       "<thead><tr><th scope=col>year</th><th scope=col>month</th><th scope=col>day</th><th scope=col>dep_time</th><th scope=col>sched_dep_time</th><th scope=col>dep_delay</th><th scope=col>arr_time</th><th scope=col>sched_arr_time</th><th scope=col>arr_delay</th><th scope=col>carrier</th><th scope=col>flight</th><th scope=col>tailnum</th><th scope=col>origin</th><th scope=col>dest</th><th scope=col>air_time</th><th scope=col>distance</th><th scope=col>hour</th><th scope=col>minute</th><th scope=col>time_hour</th></tr></thead>\n",
       "<tbody>\n",
       "\t<tr><td>2013               </td><td> 1                 </td><td>30                 </td><td> 555               </td><td> 600               </td><td>-5                 </td><td> 711               </td><td> 730               </td><td>-19                </td><td>WN                 </td><td>3223               </td><td>N454WN             </td><td>LGA                </td><td>MDW                </td><td>118                </td><td> 725               </td><td> 6                 </td><td> 0                 </td><td>2013-01-30 06:00:00</td></tr>\n",
       "\t<tr><td>2013               </td><td>11                 </td><td>18                 </td><td>1734               </td><td>1740               </td><td>-6                 </td><td>2057               </td><td>2118               </td><td>-21                </td><td>B6                 </td><td> 135               </td><td>N709JB             </td><td>JFK                </td><td>PHX                </td><td>304                </td><td>2153               </td><td>17                 </td><td>40                 </td><td>2013-11-18 17:00:00</td></tr>\n",
       "\t<tr><td>2013               </td><td> 9                 </td><td> 6                 </td><td>1537               </td><td>1545               </td><td>-8                 </td><td>1715               </td><td>1723               </td><td> -8                </td><td>EV                 </td><td>5293               </td><td>N741EV             </td><td>LGA                </td><td>ORF                </td><td> 70                </td><td> 296               </td><td>15                 </td><td>45                 </td><td>2013-09-06 15:00:00</td></tr>\n",
       "\t<tr><td>2013               </td><td> 4                 </td><td> 8                 </td><td>1310               </td><td>1315               </td><td>-5                 </td><td>1501               </td><td>1501               </td><td>  0                </td><td>US                 </td><td>1895               </td><td>N543UW             </td><td>EWR                </td><td>CLT                </td><td> 80                </td><td> 529               </td><td>13                 </td><td>15                 </td><td>2013-04-08 13:00:00</td></tr>\n",
       "\t<tr><td>2013               </td><td> 5                 </td><td>15                 </td><td>1159               </td><td>1200               </td><td>-1                 </td><td>1320               </td><td>1338               </td><td>-18                </td><td>UA                 </td><td> 394               </td><td>N467UA             </td><td>LGA                </td><td>ORD                </td><td>115                </td><td> 733               </td><td>12                 </td><td> 0                 </td><td>2013-05-15 12:00:00</td></tr>\n",
       "</tbody>\n",
       "</table>\n"
      ],
      "text/latex": [
       "\\begin{tabular}{r|lllllllllllllllllll}\n",
       " year & month & day & dep\\_time & sched\\_dep\\_time & dep\\_delay & arr\\_time & sched\\_arr\\_time & arr\\_delay & carrier & flight & tailnum & origin & dest & air\\_time & distance & hour & minute & time\\_hour\\\\\n",
       "\\hline\n",
       "\t 2013                &  1                  & 30                  &  555                &  600                & -5                  &  711                &  730                & -19                 & WN                  & 3223                & N454WN              & LGA                 & MDW                 & 118                 &  725                &  6                  &  0                  & 2013-01-30 06:00:00\\\\\n",
       "\t 2013                & 11                  & 18                  & 1734                & 1740                & -6                  & 2057                & 2118                & -21                 & B6                  &  135                & N709JB              & JFK                 & PHX                 & 304                 & 2153                & 17                  & 40                  & 2013-11-18 17:00:00\\\\\n",
       "\t 2013                &  9                  &  6                  & 1537                & 1545                & -8                  & 1715                & 1723                &  -8                 & EV                  & 5293                & N741EV              & LGA                 & ORF                 &  70                 &  296                & 15                  & 45                  & 2013-09-06 15:00:00\\\\\n",
       "\t 2013                &  4                  &  8                  & 1310                & 1315                & -5                  & 1501                & 1501                &   0                 & US                  & 1895                & N543UW              & EWR                 & CLT                 &  80                 &  529                & 13                  & 15                  & 2013-04-08 13:00:00\\\\\n",
       "\t 2013                &  5                  & 15                  & 1159                & 1200                & -1                  & 1320                & 1338                & -18                 & UA                  &  394                & N467UA              & LGA                 & ORD                 & 115                 &  733                & 12                  &  0                  & 2013-05-15 12:00:00\\\\\n",
       "\\end{tabular}\n"
      ],
      "text/markdown": [
       "\n",
       "| year | month | day | dep_time | sched_dep_time | dep_delay | arr_time | sched_arr_time | arr_delay | carrier | flight | tailnum | origin | dest | air_time | distance | hour | minute | time_hour |\n",
       "|---|---|---|---|---|---|---|---|---|---|---|---|---|---|---|---|---|---|---|\n",
       "| 2013                |  1                  | 30                  |  555                |  600                | -5                  |  711                |  730                | -19                 | WN                  | 3223                | N454WN              | LGA                 | MDW                 | 118                 |  725                |  6                  |  0                  | 2013-01-30 06:00:00 |\n",
       "| 2013                | 11                  | 18                  | 1734                | 1740                | -6                  | 2057                | 2118                | -21                 | B6                  |  135                | N709JB              | JFK                 | PHX                 | 304                 | 2153                | 17                  | 40                  | 2013-11-18 17:00:00 |\n",
       "| 2013                |  9                  |  6                  | 1537                | 1545                | -8                  | 1715                | 1723                |  -8                 | EV                  | 5293                | N741EV              | LGA                 | ORF                 |  70                 |  296                | 15                  | 45                  | 2013-09-06 15:00:00 |\n",
       "| 2013                |  4                  |  8                  | 1310                | 1315                | -5                  | 1501                | 1501                |   0                 | US                  | 1895                | N543UW              | EWR                 | CLT                 |  80                 |  529                | 13                  | 15                  | 2013-04-08 13:00:00 |\n",
       "| 2013                |  5                  | 15                  | 1159                | 1200                | -1                  | 1320                | 1338                | -18                 | UA                  |  394                | N467UA              | LGA                 | ORD                 | 115                 |  733                | 12                  |  0                  | 2013-05-15 12:00:00 |\n",
       "\n"
      ],
      "text/plain": [
       "  year month day dep_time sched_dep_time dep_delay arr_time sched_arr_time\n",
       "1 2013  1    30   555      600           -5         711      730          \n",
       "2 2013 11    18  1734     1740           -6        2057     2118          \n",
       "3 2013  9     6  1537     1545           -8        1715     1723          \n",
       "4 2013  4     8  1310     1315           -5        1501     1501          \n",
       "5 2013  5    15  1159     1200           -1        1320     1338          \n",
       "  arr_delay carrier flight tailnum origin dest air_time distance hour minute\n",
       "1 -19       WN      3223   N454WN  LGA    MDW  118       725      6    0    \n",
       "2 -21       B6       135   N709JB  JFK    PHX  304      2153     17   40    \n",
       "3  -8       EV      5293   N741EV  LGA    ORF   70       296     15   45    \n",
       "4   0       US      1895   N543UW  EWR    CLT   80       529     13   15    \n",
       "5 -18       UA       394   N467UA  LGA    ORD  115       733     12    0    \n",
       "  time_hour          \n",
       "1 2013-01-30 06:00:00\n",
       "2 2013-11-18 17:00:00\n",
       "3 2013-09-06 15:00:00\n",
       "4 2013-04-08 13:00:00\n",
       "5 2013-05-15 12:00:00"
      ]
     },
     "metadata": {},
     "output_type": "display_data"
    }
   ],
   "source": [
    "print(flights)\n",
    "head(flights, 5)\n",
    "tail(flights, 5)\n",
    "sample_n(flights, 5)"
   ]
  },
  {
   "cell_type": "markdown",
   "metadata": {},
   "source": [
    "### Q1 (4 points): Make the flights data messy and write the result into a csv file named \"flights_messy.csv\"."
   ]
  },
  {
   "cell_type": "code",
   "execution_count": 4,
   "metadata": {},
   "outputs": [],
   "source": [
    "messy <- flights %>% unite('date', year:day, sep = \"/\") %>%\n",
    "                unite('carrier_flight', carrier:flight, sep = \"_\") %>%\n",
    "                pivot_wider(names_from = origin, values_from = dest)"
   ]
  },
  {
   "cell_type": "code",
   "execution_count": 5,
   "metadata": {},
   "outputs": [
    {
     "name": "stdout",
     "output_type": "stream",
     "text": [
      "# A tibble: 336,776 x 17\n",
      "   date  dep_time sched_dep_time dep_delay arr_time sched_arr_time arr_delay\n",
      "   <chr>    <int>          <int>     <dbl>    <int>          <int>     <dbl>\n",
      " 1 2013…      517            515         2      830            819        11\n",
      " 2 2013…      533            529         4      850            830        20\n",
      " 3 2013…      542            540         2      923            850        33\n",
      " 4 2013…      544            545        -1     1004           1022       -18\n",
      " 5 2013…      554            600        -6      812            837       -25\n",
      " 6 2013…      554            558        -4      740            728        12\n",
      " 7 2013…      555            600        -5      913            854        19\n",
      " 8 2013…      557            600        -3      709            723       -14\n",
      " 9 2013…      557            600        -3      838            846        -8\n",
      "10 2013…      558            600        -2      753            745         8\n",
      "# … with 336,766 more rows, and 10 more variables: carrier_flight <chr>,\n",
      "#   tailnum <chr>, air_time <dbl>, distance <dbl>, hour <dbl>, minute <dbl>,\n",
      "#   time_hour <dttm>, EWR <chr>, LGA <chr>, JFK <chr>\n"
     ]
    },
    {
     "data": {
      "text/html": [
       "<table>\n",
       "<thead><tr><th scope=col>date</th><th scope=col>dep_time</th><th scope=col>sched_dep_time</th><th scope=col>dep_delay</th><th scope=col>arr_time</th><th scope=col>sched_arr_time</th><th scope=col>arr_delay</th><th scope=col>carrier_flight</th><th scope=col>tailnum</th><th scope=col>air_time</th><th scope=col>distance</th><th scope=col>hour</th><th scope=col>minute</th><th scope=col>time_hour</th><th scope=col>EWR</th><th scope=col>LGA</th><th scope=col>JFK</th></tr></thead>\n",
       "<tbody>\n",
       "\t<tr><td>2013/1/1           </td><td>517                </td><td>515                </td><td> 2                 </td><td> 830               </td><td> 819               </td><td> 11                </td><td>UA_1545            </td><td>N14228             </td><td>227                </td><td>1400               </td><td>5                  </td><td>15                 </td><td>2013-01-01 05:00:00</td><td>IAH                </td><td>NA                 </td><td>NA                 </td></tr>\n",
       "\t<tr><td>2013/1/1           </td><td>533                </td><td>529                </td><td> 4                 </td><td> 850               </td><td> 830               </td><td> 20                </td><td>UA_1714            </td><td>N24211             </td><td>227                </td><td>1416               </td><td>5                  </td><td>29                 </td><td>2013-01-01 05:00:00</td><td>NA                 </td><td>IAH                </td><td>NA                 </td></tr>\n",
       "\t<tr><td>2013/1/1           </td><td>542                </td><td>540                </td><td> 2                 </td><td> 923               </td><td> 850               </td><td> 33                </td><td>AA_1141            </td><td>N619AA             </td><td>160                </td><td>1089               </td><td>5                  </td><td>40                 </td><td>2013-01-01 05:00:00</td><td>NA                 </td><td>NA                 </td><td>MIA                </td></tr>\n",
       "\t<tr><td>2013/1/1           </td><td>544                </td><td>545                </td><td>-1                 </td><td>1004               </td><td>1022               </td><td>-18                </td><td>B6_725             </td><td>N804JB             </td><td>183                </td><td>1576               </td><td>5                  </td><td>45                 </td><td>2013-01-01 05:00:00</td><td>NA                 </td><td>NA                 </td><td>BQN                </td></tr>\n",
       "\t<tr><td>2013/1/1           </td><td>554                </td><td>600                </td><td>-6                 </td><td> 812               </td><td> 837               </td><td>-25                </td><td>DL_461             </td><td>N668DN             </td><td>116                </td><td> 762               </td><td>6                  </td><td> 0                 </td><td>2013-01-01 06:00:00</td><td>NA                 </td><td>ATL                </td><td>NA                 </td></tr>\n",
       "</tbody>\n",
       "</table>\n"
      ],
      "text/latex": [
       "\\begin{tabular}{r|lllllllllllllllll}\n",
       " date & dep\\_time & sched\\_dep\\_time & dep\\_delay & arr\\_time & sched\\_arr\\_time & arr\\_delay & carrier\\_flight & tailnum & air\\_time & distance & hour & minute & time\\_hour & EWR & LGA & JFK\\\\\n",
       "\\hline\n",
       "\t 2013/1/1            & 517                 & 515                 &  2                  &  830                &  819                &  11                 & UA\\_1545           & N14228              & 227                 & 1400                & 5                   & 15                  & 2013-01-01 05:00:00 & IAH                 & NA                  & NA                 \\\\\n",
       "\t 2013/1/1            & 533                 & 529                 &  4                  &  850                &  830                &  20                 & UA\\_1714           & N24211              & 227                 & 1416                & 5                   & 29                  & 2013-01-01 05:00:00 & NA                  & IAH                 & NA                 \\\\\n",
       "\t 2013/1/1            & 542                 & 540                 &  2                  &  923                &  850                &  33                 & AA\\_1141           & N619AA              & 160                 & 1089                & 5                   & 40                  & 2013-01-01 05:00:00 & NA                  & NA                  & MIA                \\\\\n",
       "\t 2013/1/1            & 544                 & 545                 & -1                  & 1004                & 1022                & -18                 & B6\\_725            & N804JB              & 183                 & 1576                & 5                   & 45                  & 2013-01-01 05:00:00 & NA                  & NA                  & BQN                \\\\\n",
       "\t 2013/1/1            & 554                 & 600                 & -6                  &  812                &  837                & -25                 & DL\\_461            & N668DN              & 116                 &  762                & 6                   &  0                  & 2013-01-01 06:00:00 & NA                  & ATL                 & NA                 \\\\\n",
       "\\end{tabular}\n"
      ],
      "text/markdown": [
       "\n",
       "| date | dep_time | sched_dep_time | dep_delay | arr_time | sched_arr_time | arr_delay | carrier_flight | tailnum | air_time | distance | hour | minute | time_hour | EWR | LGA | JFK |\n",
       "|---|---|---|---|---|---|---|---|---|---|---|---|---|---|---|---|---|\n",
       "| 2013/1/1            | 517                 | 515                 |  2                  |  830                |  819                |  11                 | UA_1545             | N14228              | 227                 | 1400                | 5                   | 15                  | 2013-01-01 05:00:00 | IAH                 | NA                  | NA                  |\n",
       "| 2013/1/1            | 533                 | 529                 |  4                  |  850                |  830                |  20                 | UA_1714             | N24211              | 227                 | 1416                | 5                   | 29                  | 2013-01-01 05:00:00 | NA                  | IAH                 | NA                  |\n",
       "| 2013/1/1            | 542                 | 540                 |  2                  |  923                |  850                |  33                 | AA_1141             | N619AA              | 160                 | 1089                | 5                   | 40                  | 2013-01-01 05:00:00 | NA                  | NA                  | MIA                 |\n",
       "| 2013/1/1            | 544                 | 545                 | -1                  | 1004                | 1022                | -18                 | B6_725              | N804JB              | 183                 | 1576                | 5                   | 45                  | 2013-01-01 05:00:00 | NA                  | NA                  | BQN                 |\n",
       "| 2013/1/1            | 554                 | 600                 | -6                  |  812                |  837                | -25                 | DL_461              | N668DN              | 116                 |  762                | 6                   |  0                  | 2013-01-01 06:00:00 | NA                  | ATL                 | NA                  |\n",
       "\n"
      ],
      "text/plain": [
       "  date     dep_time sched_dep_time dep_delay arr_time sched_arr_time arr_delay\n",
       "1 2013/1/1 517      515             2         830      819            11      \n",
       "2 2013/1/1 533      529             4         850      830            20      \n",
       "3 2013/1/1 542      540             2         923      850            33      \n",
       "4 2013/1/1 544      545            -1        1004     1022           -18      \n",
       "5 2013/1/1 554      600            -6         812      837           -25      \n",
       "  carrier_flight tailnum air_time distance hour minute time_hour           EWR\n",
       "1 UA_1545        N14228  227      1400     5    15     2013-01-01 05:00:00 IAH\n",
       "2 UA_1714        N24211  227      1416     5    29     2013-01-01 05:00:00 NA \n",
       "3 AA_1141        N619AA  160      1089     5    40     2013-01-01 05:00:00 NA \n",
       "4 B6_725         N804JB  183      1576     5    45     2013-01-01 05:00:00 NA \n",
       "5 DL_461         N668DN  116       762     6     0     2013-01-01 06:00:00 NA \n",
       "  LGA JFK\n",
       "1 NA  NA \n",
       "2 IAH NA \n",
       "3 NA  MIA\n",
       "4 NA  BQN\n",
       "5 ATL NA "
      ]
     },
     "metadata": {},
     "output_type": "display_data"
    },
    {
     "data": {
      "text/html": [
       "<table>\n",
       "<thead><tr><th scope=col>date</th><th scope=col>dep_time</th><th scope=col>sched_dep_time</th><th scope=col>dep_delay</th><th scope=col>arr_time</th><th scope=col>sched_arr_time</th><th scope=col>arr_delay</th><th scope=col>carrier_flight</th><th scope=col>tailnum</th><th scope=col>air_time</th><th scope=col>distance</th><th scope=col>hour</th><th scope=col>minute</th><th scope=col>time_hour</th><th scope=col>EWR</th><th scope=col>LGA</th><th scope=col>JFK</th></tr></thead>\n",
       "<tbody>\n",
       "\t<tr><td>2013/9/30          </td><td>NA                 </td><td>1455               </td><td>NA                 </td><td>NA                 </td><td>1634               </td><td>NA                 </td><td>9E_3393            </td><td>NA                 </td><td>NA                 </td><td>213                </td><td>14                 </td><td>55                 </td><td>2013-09-30 14:00:00</td><td>NA                 </td><td>NA                 </td><td>DCA                </td></tr>\n",
       "\t<tr><td>2013/9/30          </td><td>NA                 </td><td>2200               </td><td>NA                 </td><td>NA                 </td><td>2312               </td><td>NA                 </td><td>9E_3525            </td><td>NA                 </td><td>NA                 </td><td>198                </td><td>22                 </td><td> 0                 </td><td>2013-09-30 22:00:00</td><td>NA                 </td><td>SYR                </td><td>NA                 </td></tr>\n",
       "\t<tr><td>2013/9/30          </td><td>NA                 </td><td>1210               </td><td>NA                 </td><td>NA                 </td><td>1330               </td><td>NA                 </td><td>MQ_3461            </td><td>N535MQ             </td><td>NA                 </td><td>764                </td><td>12                 </td><td>10                 </td><td>2013-09-30 12:00:00</td><td>NA                 </td><td>BNA                </td><td>NA                 </td></tr>\n",
       "\t<tr><td>2013/9/30          </td><td>NA                 </td><td>1159               </td><td>NA                 </td><td>NA                 </td><td>1344               </td><td>NA                 </td><td>MQ_3572            </td><td>N511MQ             </td><td>NA                 </td><td>419                </td><td>11                 </td><td>59                 </td><td>2013-09-30 11:00:00</td><td>NA                 </td><td>CLE                </td><td>NA                 </td></tr>\n",
       "\t<tr><td>2013/9/30          </td><td>NA                 </td><td> 840               </td><td>NA                 </td><td>NA                 </td><td>1020               </td><td>NA                 </td><td>MQ_3531            </td><td>N839MQ             </td><td>NA                 </td><td>431                </td><td> 8                 </td><td>40                 </td><td>2013-09-30 08:00:00</td><td>NA                 </td><td>RDU                </td><td>NA                 </td></tr>\n",
       "</tbody>\n",
       "</table>\n"
      ],
      "text/latex": [
       "\\begin{tabular}{r|lllllllllllllllll}\n",
       " date & dep\\_time & sched\\_dep\\_time & dep\\_delay & arr\\_time & sched\\_arr\\_time & arr\\_delay & carrier\\_flight & tailnum & air\\_time & distance & hour & minute & time\\_hour & EWR & LGA & JFK\\\\\n",
       "\\hline\n",
       "\t 2013/9/30           & NA                  & 1455                & NA                  & NA                  & 1634                & NA                  & 9E\\_3393           & NA                  & NA                  & 213                 & 14                  & 55                  & 2013-09-30 14:00:00 & NA                  & NA                  & DCA                \\\\\n",
       "\t 2013/9/30           & NA                  & 2200                & NA                  & NA                  & 2312                & NA                  & 9E\\_3525           & NA                  & NA                  & 198                 & 22                  &  0                  & 2013-09-30 22:00:00 & NA                  & SYR                 & NA                 \\\\\n",
       "\t 2013/9/30           & NA                  & 1210                & NA                  & NA                  & 1330                & NA                  & MQ\\_3461           & N535MQ              & NA                  & 764                 & 12                  & 10                  & 2013-09-30 12:00:00 & NA                  & BNA                 & NA                 \\\\\n",
       "\t 2013/9/30           & NA                  & 1159                & NA                  & NA                  & 1344                & NA                  & MQ\\_3572           & N511MQ              & NA                  & 419                 & 11                  & 59                  & 2013-09-30 11:00:00 & NA                  & CLE                 & NA                 \\\\\n",
       "\t 2013/9/30           & NA                  &  840                & NA                  & NA                  & 1020                & NA                  & MQ\\_3531           & N839MQ              & NA                  & 431                 &  8                  & 40                  & 2013-09-30 08:00:00 & NA                  & RDU                 & NA                 \\\\\n",
       "\\end{tabular}\n"
      ],
      "text/markdown": [
       "\n",
       "| date | dep_time | sched_dep_time | dep_delay | arr_time | sched_arr_time | arr_delay | carrier_flight | tailnum | air_time | distance | hour | minute | time_hour | EWR | LGA | JFK |\n",
       "|---|---|---|---|---|---|---|---|---|---|---|---|---|---|---|---|---|\n",
       "| 2013/9/30           | NA                  | 1455                | NA                  | NA                  | 1634                | NA                  | 9E_3393             | NA                  | NA                  | 213                 | 14                  | 55                  | 2013-09-30 14:00:00 | NA                  | NA                  | DCA                 |\n",
       "| 2013/9/30           | NA                  | 2200                | NA                  | NA                  | 2312                | NA                  | 9E_3525             | NA                  | NA                  | 198                 | 22                  |  0                  | 2013-09-30 22:00:00 | NA                  | SYR                 | NA                  |\n",
       "| 2013/9/30           | NA                  | 1210                | NA                  | NA                  | 1330                | NA                  | MQ_3461             | N535MQ              | NA                  | 764                 | 12                  | 10                  | 2013-09-30 12:00:00 | NA                  | BNA                 | NA                  |\n",
       "| 2013/9/30           | NA                  | 1159                | NA                  | NA                  | 1344                | NA                  | MQ_3572             | N511MQ              | NA                  | 419                 | 11                  | 59                  | 2013-09-30 11:00:00 | NA                  | CLE                 | NA                  |\n",
       "| 2013/9/30           | NA                  |  840                | NA                  | NA                  | 1020                | NA                  | MQ_3531             | N839MQ              | NA                  | 431                 |  8                  | 40                  | 2013-09-30 08:00:00 | NA                  | RDU                 | NA                  |\n",
       "\n"
      ],
      "text/plain": [
       "  date      dep_time sched_dep_time dep_delay arr_time sched_arr_time arr_delay\n",
       "1 2013/9/30 NA       1455           NA        NA       1634           NA       \n",
       "2 2013/9/30 NA       2200           NA        NA       2312           NA       \n",
       "3 2013/9/30 NA       1210           NA        NA       1330           NA       \n",
       "4 2013/9/30 NA       1159           NA        NA       1344           NA       \n",
       "5 2013/9/30 NA        840           NA        NA       1020           NA       \n",
       "  carrier_flight tailnum air_time distance hour minute time_hour           EWR\n",
       "1 9E_3393        NA      NA       213      14   55     2013-09-30 14:00:00 NA \n",
       "2 9E_3525        NA      NA       198      22    0     2013-09-30 22:00:00 NA \n",
       "3 MQ_3461        N535MQ  NA       764      12   10     2013-09-30 12:00:00 NA \n",
       "4 MQ_3572        N511MQ  NA       419      11   59     2013-09-30 11:00:00 NA \n",
       "5 MQ_3531        N839MQ  NA       431       8   40     2013-09-30 08:00:00 NA \n",
       "  LGA JFK\n",
       "1 NA  DCA\n",
       "2 SYR NA \n",
       "3 BNA NA \n",
       "4 CLE NA \n",
       "5 RDU NA "
      ]
     },
     "metadata": {},
     "output_type": "display_data"
    },
    {
     "data": {
      "text/html": [
       "<table>\n",
       "<thead><tr><th scope=col>date</th><th scope=col>dep_time</th><th scope=col>sched_dep_time</th><th scope=col>dep_delay</th><th scope=col>arr_time</th><th scope=col>sched_arr_time</th><th scope=col>arr_delay</th><th scope=col>carrier_flight</th><th scope=col>tailnum</th><th scope=col>air_time</th><th scope=col>distance</th><th scope=col>hour</th><th scope=col>minute</th><th scope=col>time_hour</th><th scope=col>EWR</th><th scope=col>LGA</th><th scope=col>JFK</th></tr></thead>\n",
       "<tbody>\n",
       "\t<tr><td>2013/1/28          </td><td>1512               </td><td>1459               </td><td>13                 </td><td>1637               </td><td>1625               </td><td> 12                </td><td>B6_12              </td><td>N273JB             </td><td> 49                </td><td> 209               </td><td>14                 </td><td>59                 </td><td>2013-01-28 14:00:00</td><td>NA                 </td><td>NA                 </td><td>SYR                </td></tr>\n",
       "\t<tr><td>2013/7/22          </td><td>1115               </td><td>1025               </td><td>50                 </td><td>1321               </td><td>1225               </td><td> 56                </td><td>MQ_3689            </td><td>N502MQ             </td><td> 83                </td><td> 502               </td><td>10                 </td><td>25                 </td><td>2013-07-22 10:00:00</td><td>NA                 </td><td>DTW                </td><td>NA                 </td></tr>\n",
       "\t<tr><td>2013/6/21          </td><td>1054               </td><td>1057               </td><td>-3                 </td><td>1327               </td><td>1338               </td><td>-11                </td><td>UA_1166            </td><td>N16713             </td><td>181                </td><td>1400               </td><td>10                 </td><td>57                 </td><td>2013-06-21 10:00:00</td><td>IAH                </td><td>NA                 </td><td>NA                 </td></tr>\n",
       "\t<tr><td>2013/5/13          </td><td>1536               </td><td>1455               </td><td>41                 </td><td>1735               </td><td>1649               </td><td> 46                </td><td>EV_4326            </td><td>N16951             </td><td> 90                </td><td> 529               </td><td>14                 </td><td>55                 </td><td>2013-05-13 14:00:00</td><td>CLT                </td><td>NA                 </td><td>NA                 </td></tr>\n",
       "\t<tr><td>2013/7/16          </td><td>2106               </td><td>2114               </td><td>-8                 </td><td>2339               </td><td>2358               </td><td>-19                </td><td>UA_1178            </td><td>N37267             </td><td>166                </td><td>1400               </td><td>21                 </td><td>14                 </td><td>2013-07-16 21:00:00</td><td>IAH                </td><td>NA                 </td><td>NA                 </td></tr>\n",
       "</tbody>\n",
       "</table>\n"
      ],
      "text/latex": [
       "\\begin{tabular}{r|lllllllllllllllll}\n",
       " date & dep\\_time & sched\\_dep\\_time & dep\\_delay & arr\\_time & sched\\_arr\\_time & arr\\_delay & carrier\\_flight & tailnum & air\\_time & distance & hour & minute & time\\_hour & EWR & LGA & JFK\\\\\n",
       "\\hline\n",
       "\t 2013/1/28           & 1512                & 1459                & 13                  & 1637                & 1625                &  12                 & B6\\_12             & N273JB              &  49                 &  209                & 14                  & 59                  & 2013-01-28 14:00:00 & NA                  & NA                  & SYR                \\\\\n",
       "\t 2013/7/22           & 1115                & 1025                & 50                  & 1321                & 1225                &  56                 & MQ\\_3689           & N502MQ              &  83                 &  502                & 10                  & 25                  & 2013-07-22 10:00:00 & NA                  & DTW                 & NA                 \\\\\n",
       "\t 2013/6/21           & 1054                & 1057                & -3                  & 1327                & 1338                & -11                 & UA\\_1166           & N16713              & 181                 & 1400                & 10                  & 57                  & 2013-06-21 10:00:00 & IAH                 & NA                  & NA                 \\\\\n",
       "\t 2013/5/13           & 1536                & 1455                & 41                  & 1735                & 1649                &  46                 & EV\\_4326           & N16951              &  90                 &  529                & 14                  & 55                  & 2013-05-13 14:00:00 & CLT                 & NA                  & NA                 \\\\\n",
       "\t 2013/7/16           & 2106                & 2114                & -8                  & 2339                & 2358                & -19                 & UA\\_1178           & N37267              & 166                 & 1400                & 21                  & 14                  & 2013-07-16 21:00:00 & IAH                 & NA                  & NA                 \\\\\n",
       "\\end{tabular}\n"
      ],
      "text/markdown": [
       "\n",
       "| date | dep_time | sched_dep_time | dep_delay | arr_time | sched_arr_time | arr_delay | carrier_flight | tailnum | air_time | distance | hour | minute | time_hour | EWR | LGA | JFK |\n",
       "|---|---|---|---|---|---|---|---|---|---|---|---|---|---|---|---|---|\n",
       "| 2013/1/28           | 1512                | 1459                | 13                  | 1637                | 1625                |  12                 | B6_12               | N273JB              |  49                 |  209                | 14                  | 59                  | 2013-01-28 14:00:00 | NA                  | NA                  | SYR                 |\n",
       "| 2013/7/22           | 1115                | 1025                | 50                  | 1321                | 1225                |  56                 | MQ_3689             | N502MQ              |  83                 |  502                | 10                  | 25                  | 2013-07-22 10:00:00 | NA                  | DTW                 | NA                  |\n",
       "| 2013/6/21           | 1054                | 1057                | -3                  | 1327                | 1338                | -11                 | UA_1166             | N16713              | 181                 | 1400                | 10                  | 57                  | 2013-06-21 10:00:00 | IAH                 | NA                  | NA                  |\n",
       "| 2013/5/13           | 1536                | 1455                | 41                  | 1735                | 1649                |  46                 | EV_4326             | N16951              |  90                 |  529                | 14                  | 55                  | 2013-05-13 14:00:00 | CLT                 | NA                  | NA                  |\n",
       "| 2013/7/16           | 2106                | 2114                | -8                  | 2339                | 2358                | -19                 | UA_1178             | N37267              | 166                 | 1400                | 21                  | 14                  | 2013-07-16 21:00:00 | IAH                 | NA                  | NA                  |\n",
       "\n"
      ],
      "text/plain": [
       "  date      dep_time sched_dep_time dep_delay arr_time sched_arr_time arr_delay\n",
       "1 2013/1/28 1512     1459           13        1637     1625            12      \n",
       "2 2013/7/22 1115     1025           50        1321     1225            56      \n",
       "3 2013/6/21 1054     1057           -3        1327     1338           -11      \n",
       "4 2013/5/13 1536     1455           41        1735     1649            46      \n",
       "5 2013/7/16 2106     2114           -8        2339     2358           -19      \n",
       "  carrier_flight tailnum air_time distance hour minute time_hour           EWR\n",
       "1 B6_12          N273JB   49       209     14   59     2013-01-28 14:00:00 NA \n",
       "2 MQ_3689        N502MQ   83       502     10   25     2013-07-22 10:00:00 NA \n",
       "3 UA_1166        N16713  181      1400     10   57     2013-06-21 10:00:00 IAH\n",
       "4 EV_4326        N16951   90       529     14   55     2013-05-13 14:00:00 CLT\n",
       "5 UA_1178        N37267  166      1400     21   14     2013-07-16 21:00:00 IAH\n",
       "  LGA JFK\n",
       "1 NA  SYR\n",
       "2 DTW NA \n",
       "3 NA  NA \n",
       "4 NA  NA \n",
       "5 NA  NA "
      ]
     },
     "metadata": {},
     "output_type": "display_data"
    }
   ],
   "source": [
    "print(messy)\n",
    "head(messy, 5)\n",
    "tail(messy, 5)\n",
    "sample_n(messy, 5)"
   ]
  },
  {
   "cell_type": "code",
   "execution_count": 6,
   "metadata": {},
   "outputs": [],
   "source": [
    "write_csv(messy,'flights_messy.csv')"
   ]
  },
  {
   "cell_type": "markdown",
   "metadata": {},
   "source": [
    "### Q2 (6 points): Read \"flights_messy.csv\" and make the data tidy."
   ]
  },
  {
   "cell_type": "code",
   "execution_count": 7,
   "metadata": {},
   "outputs": [
    {
     "name": "stderr",
     "output_type": "stream",
     "text": [
      "Parsed with column specification:\n",
      "cols(\n",
      "  date = col_character(),\n",
      "  dep_time = col_double(),\n",
      "  sched_dep_time = col_double(),\n",
      "  dep_delay = col_double(),\n",
      "  arr_time = col_double(),\n",
      "  sched_arr_time = col_double(),\n",
      "  arr_delay = col_double(),\n",
      "  carrier_flight = col_character(),\n",
      "  tailnum = col_character(),\n",
      "  air_time = col_double(),\n",
      "  distance = col_double(),\n",
      "  hour = col_double(),\n",
      "  minute = col_double(),\n",
      "  time_hour = col_datetime(format = \"\"),\n",
      "  EWR = col_character(),\n",
      "  LGA = col_character(),\n",
      "  JFK = col_character()\n",
      ")\n"
     ]
    }
   ],
   "source": [
    "tidy <- read_csv(\"flights_messy.csv\")"
   ]
  },
  {
   "cell_type": "code",
   "execution_count": 8,
   "metadata": {},
   "outputs": [
    {
     "name": "stdout",
     "output_type": "stream",
     "text": [
      "# A tibble: 336,776 x 17\n",
      "   date  dep_time sched_dep_time dep_delay arr_time sched_arr_time arr_delay\n",
      "   <chr>    <dbl>          <dbl>     <dbl>    <dbl>          <dbl>     <dbl>\n",
      " 1 2013…      517            515         2      830            819        11\n",
      " 2 2013…      533            529         4      850            830        20\n",
      " 3 2013…      542            540         2      923            850        33\n",
      " 4 2013…      544            545        -1     1004           1022       -18\n",
      " 5 2013…      554            600        -6      812            837       -25\n",
      " 6 2013…      554            558        -4      740            728        12\n",
      " 7 2013…      555            600        -5      913            854        19\n",
      " 8 2013…      557            600        -3      709            723       -14\n",
      " 9 2013…      557            600        -3      838            846        -8\n",
      "10 2013…      558            600        -2      753            745         8\n",
      "# … with 336,766 more rows, and 10 more variables: carrier_flight <chr>,\n",
      "#   tailnum <chr>, air_time <dbl>, distance <dbl>, hour <dbl>, minute <dbl>,\n",
      "#   time_hour <dttm>, EWR <chr>, LGA <chr>, JFK <chr>\n"
     ]
    },
    {
     "data": {
      "text/html": [
       "<table>\n",
       "<thead><tr><th scope=col>date</th><th scope=col>dep_time</th><th scope=col>sched_dep_time</th><th scope=col>dep_delay</th><th scope=col>arr_time</th><th scope=col>sched_arr_time</th><th scope=col>arr_delay</th><th scope=col>carrier_flight</th><th scope=col>tailnum</th><th scope=col>air_time</th><th scope=col>distance</th><th scope=col>hour</th><th scope=col>minute</th><th scope=col>time_hour</th><th scope=col>EWR</th><th scope=col>LGA</th><th scope=col>JFK</th></tr></thead>\n",
       "<tbody>\n",
       "\t<tr><td>2013/1/1           </td><td>517                </td><td>515                </td><td> 2                 </td><td> 830               </td><td> 819               </td><td> 11                </td><td>UA_1545            </td><td>N14228             </td><td>227                </td><td>1400               </td><td>5                  </td><td>15                 </td><td>2013-01-01 10:00:00</td><td>IAH                </td><td>NA                 </td><td>NA                 </td></tr>\n",
       "\t<tr><td>2013/1/1           </td><td>533                </td><td>529                </td><td> 4                 </td><td> 850               </td><td> 830               </td><td> 20                </td><td>UA_1714            </td><td>N24211             </td><td>227                </td><td>1416               </td><td>5                  </td><td>29                 </td><td>2013-01-01 10:00:00</td><td>NA                 </td><td>IAH                </td><td>NA                 </td></tr>\n",
       "\t<tr><td>2013/1/1           </td><td>542                </td><td>540                </td><td> 2                 </td><td> 923               </td><td> 850               </td><td> 33                </td><td>AA_1141            </td><td>N619AA             </td><td>160                </td><td>1089               </td><td>5                  </td><td>40                 </td><td>2013-01-01 10:00:00</td><td>NA                 </td><td>NA                 </td><td>MIA                </td></tr>\n",
       "\t<tr><td>2013/1/1           </td><td>544                </td><td>545                </td><td>-1                 </td><td>1004               </td><td>1022               </td><td>-18                </td><td>B6_725             </td><td>N804JB             </td><td>183                </td><td>1576               </td><td>5                  </td><td>45                 </td><td>2013-01-01 10:00:00</td><td>NA                 </td><td>NA                 </td><td>BQN                </td></tr>\n",
       "\t<tr><td>2013/1/1           </td><td>554                </td><td>600                </td><td>-6                 </td><td> 812               </td><td> 837               </td><td>-25                </td><td>DL_461             </td><td>N668DN             </td><td>116                </td><td> 762               </td><td>6                  </td><td> 0                 </td><td>2013-01-01 11:00:00</td><td>NA                 </td><td>ATL                </td><td>NA                 </td></tr>\n",
       "</tbody>\n",
       "</table>\n"
      ],
      "text/latex": [
       "\\begin{tabular}{r|lllllllllllllllll}\n",
       " date & dep\\_time & sched\\_dep\\_time & dep\\_delay & arr\\_time & sched\\_arr\\_time & arr\\_delay & carrier\\_flight & tailnum & air\\_time & distance & hour & minute & time\\_hour & EWR & LGA & JFK\\\\\n",
       "\\hline\n",
       "\t 2013/1/1            & 517                 & 515                 &  2                  &  830                &  819                &  11                 & UA\\_1545           & N14228              & 227                 & 1400                & 5                   & 15                  & 2013-01-01 10:00:00 & IAH                 & NA                  & NA                 \\\\\n",
       "\t 2013/1/1            & 533                 & 529                 &  4                  &  850                &  830                &  20                 & UA\\_1714           & N24211              & 227                 & 1416                & 5                   & 29                  & 2013-01-01 10:00:00 & NA                  & IAH                 & NA                 \\\\\n",
       "\t 2013/1/1            & 542                 & 540                 &  2                  &  923                &  850                &  33                 & AA\\_1141           & N619AA              & 160                 & 1089                & 5                   & 40                  & 2013-01-01 10:00:00 & NA                  & NA                  & MIA                \\\\\n",
       "\t 2013/1/1            & 544                 & 545                 & -1                  & 1004                & 1022                & -18                 & B6\\_725            & N804JB              & 183                 & 1576                & 5                   & 45                  & 2013-01-01 10:00:00 & NA                  & NA                  & BQN                \\\\\n",
       "\t 2013/1/1            & 554                 & 600                 & -6                  &  812                &  837                & -25                 & DL\\_461            & N668DN              & 116                 &  762                & 6                   &  0                  & 2013-01-01 11:00:00 & NA                  & ATL                 & NA                 \\\\\n",
       "\\end{tabular}\n"
      ],
      "text/markdown": [
       "\n",
       "| date | dep_time | sched_dep_time | dep_delay | arr_time | sched_arr_time | arr_delay | carrier_flight | tailnum | air_time | distance | hour | minute | time_hour | EWR | LGA | JFK |\n",
       "|---|---|---|---|---|---|---|---|---|---|---|---|---|---|---|---|---|\n",
       "| 2013/1/1            | 517                 | 515                 |  2                  |  830                |  819                |  11                 | UA_1545             | N14228              | 227                 | 1400                | 5                   | 15                  | 2013-01-01 10:00:00 | IAH                 | NA                  | NA                  |\n",
       "| 2013/1/1            | 533                 | 529                 |  4                  |  850                |  830                |  20                 | UA_1714             | N24211              | 227                 | 1416                | 5                   | 29                  | 2013-01-01 10:00:00 | NA                  | IAH                 | NA                  |\n",
       "| 2013/1/1            | 542                 | 540                 |  2                  |  923                |  850                |  33                 | AA_1141             | N619AA              | 160                 | 1089                | 5                   | 40                  | 2013-01-01 10:00:00 | NA                  | NA                  | MIA                 |\n",
       "| 2013/1/1            | 544                 | 545                 | -1                  | 1004                | 1022                | -18                 | B6_725              | N804JB              | 183                 | 1576                | 5                   | 45                  | 2013-01-01 10:00:00 | NA                  | NA                  | BQN                 |\n",
       "| 2013/1/1            | 554                 | 600                 | -6                  |  812                |  837                | -25                 | DL_461              | N668DN              | 116                 |  762                | 6                   |  0                  | 2013-01-01 11:00:00 | NA                  | ATL                 | NA                  |\n",
       "\n"
      ],
      "text/plain": [
       "  date     dep_time sched_dep_time dep_delay arr_time sched_arr_time arr_delay\n",
       "1 2013/1/1 517      515             2         830      819            11      \n",
       "2 2013/1/1 533      529             4         850      830            20      \n",
       "3 2013/1/1 542      540             2         923      850            33      \n",
       "4 2013/1/1 544      545            -1        1004     1022           -18      \n",
       "5 2013/1/1 554      600            -6         812      837           -25      \n",
       "  carrier_flight tailnum air_time distance hour minute time_hour           EWR\n",
       "1 UA_1545        N14228  227      1400     5    15     2013-01-01 10:00:00 IAH\n",
       "2 UA_1714        N24211  227      1416     5    29     2013-01-01 10:00:00 NA \n",
       "3 AA_1141        N619AA  160      1089     5    40     2013-01-01 10:00:00 NA \n",
       "4 B6_725         N804JB  183      1576     5    45     2013-01-01 10:00:00 NA \n",
       "5 DL_461         N668DN  116       762     6     0     2013-01-01 11:00:00 NA \n",
       "  LGA JFK\n",
       "1 NA  NA \n",
       "2 IAH NA \n",
       "3 NA  MIA\n",
       "4 NA  BQN\n",
       "5 ATL NA "
      ]
     },
     "metadata": {},
     "output_type": "display_data"
    },
    {
     "data": {
      "text/html": [
       "<table>\n",
       "<thead><tr><th scope=col>date</th><th scope=col>dep_time</th><th scope=col>sched_dep_time</th><th scope=col>dep_delay</th><th scope=col>arr_time</th><th scope=col>sched_arr_time</th><th scope=col>arr_delay</th><th scope=col>carrier_flight</th><th scope=col>tailnum</th><th scope=col>air_time</th><th scope=col>distance</th><th scope=col>hour</th><th scope=col>minute</th><th scope=col>time_hour</th><th scope=col>EWR</th><th scope=col>LGA</th><th scope=col>JFK</th></tr></thead>\n",
       "<tbody>\n",
       "\t<tr><td>2013/9/30          </td><td>NA                 </td><td>1455               </td><td>NA                 </td><td>NA                 </td><td>1634               </td><td>NA                 </td><td>9E_3393            </td><td>NA                 </td><td>NA                 </td><td>213                </td><td>14                 </td><td>55                 </td><td>2013-09-30 18:00:00</td><td>NA                 </td><td>NA                 </td><td>DCA                </td></tr>\n",
       "\t<tr><td>2013/9/30          </td><td>NA                 </td><td>2200               </td><td>NA                 </td><td>NA                 </td><td>2312               </td><td>NA                 </td><td>9E_3525            </td><td>NA                 </td><td>NA                 </td><td>198                </td><td>22                 </td><td> 0                 </td><td>2013-10-01 02:00:00</td><td>NA                 </td><td>SYR                </td><td>NA                 </td></tr>\n",
       "\t<tr><td>2013/9/30          </td><td>NA                 </td><td>1210               </td><td>NA                 </td><td>NA                 </td><td>1330               </td><td>NA                 </td><td>MQ_3461            </td><td>N535MQ             </td><td>NA                 </td><td>764                </td><td>12                 </td><td>10                 </td><td>2013-09-30 16:00:00</td><td>NA                 </td><td>BNA                </td><td>NA                 </td></tr>\n",
       "\t<tr><td>2013/9/30          </td><td>NA                 </td><td>1159               </td><td>NA                 </td><td>NA                 </td><td>1344               </td><td>NA                 </td><td>MQ_3572            </td><td>N511MQ             </td><td>NA                 </td><td>419                </td><td>11                 </td><td>59                 </td><td>2013-09-30 15:00:00</td><td>NA                 </td><td>CLE                </td><td>NA                 </td></tr>\n",
       "\t<tr><td>2013/9/30          </td><td>NA                 </td><td> 840               </td><td>NA                 </td><td>NA                 </td><td>1020               </td><td>NA                 </td><td>MQ_3531            </td><td>N839MQ             </td><td>NA                 </td><td>431                </td><td> 8                 </td><td>40                 </td><td>2013-09-30 12:00:00</td><td>NA                 </td><td>RDU                </td><td>NA                 </td></tr>\n",
       "</tbody>\n",
       "</table>\n"
      ],
      "text/latex": [
       "\\begin{tabular}{r|lllllllllllllllll}\n",
       " date & dep\\_time & sched\\_dep\\_time & dep\\_delay & arr\\_time & sched\\_arr\\_time & arr\\_delay & carrier\\_flight & tailnum & air\\_time & distance & hour & minute & time\\_hour & EWR & LGA & JFK\\\\\n",
       "\\hline\n",
       "\t 2013/9/30           & NA                  & 1455                & NA                  & NA                  & 1634                & NA                  & 9E\\_3393           & NA                  & NA                  & 213                 & 14                  & 55                  & 2013-09-30 18:00:00 & NA                  & NA                  & DCA                \\\\\n",
       "\t 2013/9/30           & NA                  & 2200                & NA                  & NA                  & 2312                & NA                  & 9E\\_3525           & NA                  & NA                  & 198                 & 22                  &  0                  & 2013-10-01 02:00:00 & NA                  & SYR                 & NA                 \\\\\n",
       "\t 2013/9/30           & NA                  & 1210                & NA                  & NA                  & 1330                & NA                  & MQ\\_3461           & N535MQ              & NA                  & 764                 & 12                  & 10                  & 2013-09-30 16:00:00 & NA                  & BNA                 & NA                 \\\\\n",
       "\t 2013/9/30           & NA                  & 1159                & NA                  & NA                  & 1344                & NA                  & MQ\\_3572           & N511MQ              & NA                  & 419                 & 11                  & 59                  & 2013-09-30 15:00:00 & NA                  & CLE                 & NA                 \\\\\n",
       "\t 2013/9/30           & NA                  &  840                & NA                  & NA                  & 1020                & NA                  & MQ\\_3531           & N839MQ              & NA                  & 431                 &  8                  & 40                  & 2013-09-30 12:00:00 & NA                  & RDU                 & NA                 \\\\\n",
       "\\end{tabular}\n"
      ],
      "text/markdown": [
       "\n",
       "| date | dep_time | sched_dep_time | dep_delay | arr_time | sched_arr_time | arr_delay | carrier_flight | tailnum | air_time | distance | hour | minute | time_hour | EWR | LGA | JFK |\n",
       "|---|---|---|---|---|---|---|---|---|---|---|---|---|---|---|---|---|\n",
       "| 2013/9/30           | NA                  | 1455                | NA                  | NA                  | 1634                | NA                  | 9E_3393             | NA                  | NA                  | 213                 | 14                  | 55                  | 2013-09-30 18:00:00 | NA                  | NA                  | DCA                 |\n",
       "| 2013/9/30           | NA                  | 2200                | NA                  | NA                  | 2312                | NA                  | 9E_3525             | NA                  | NA                  | 198                 | 22                  |  0                  | 2013-10-01 02:00:00 | NA                  | SYR                 | NA                  |\n",
       "| 2013/9/30           | NA                  | 1210                | NA                  | NA                  | 1330                | NA                  | MQ_3461             | N535MQ              | NA                  | 764                 | 12                  | 10                  | 2013-09-30 16:00:00 | NA                  | BNA                 | NA                  |\n",
       "| 2013/9/30           | NA                  | 1159                | NA                  | NA                  | 1344                | NA                  | MQ_3572             | N511MQ              | NA                  | 419                 | 11                  | 59                  | 2013-09-30 15:00:00 | NA                  | CLE                 | NA                  |\n",
       "| 2013/9/30           | NA                  |  840                | NA                  | NA                  | 1020                | NA                  | MQ_3531             | N839MQ              | NA                  | 431                 |  8                  | 40                  | 2013-09-30 12:00:00 | NA                  | RDU                 | NA                  |\n",
       "\n"
      ],
      "text/plain": [
       "  date      dep_time sched_dep_time dep_delay arr_time sched_arr_time arr_delay\n",
       "1 2013/9/30 NA       1455           NA        NA       1634           NA       \n",
       "2 2013/9/30 NA       2200           NA        NA       2312           NA       \n",
       "3 2013/9/30 NA       1210           NA        NA       1330           NA       \n",
       "4 2013/9/30 NA       1159           NA        NA       1344           NA       \n",
       "5 2013/9/30 NA        840           NA        NA       1020           NA       \n",
       "  carrier_flight tailnum air_time distance hour minute time_hour           EWR\n",
       "1 9E_3393        NA      NA       213      14   55     2013-09-30 18:00:00 NA \n",
       "2 9E_3525        NA      NA       198      22    0     2013-10-01 02:00:00 NA \n",
       "3 MQ_3461        N535MQ  NA       764      12   10     2013-09-30 16:00:00 NA \n",
       "4 MQ_3572        N511MQ  NA       419      11   59     2013-09-30 15:00:00 NA \n",
       "5 MQ_3531        N839MQ  NA       431       8   40     2013-09-30 12:00:00 NA \n",
       "  LGA JFK\n",
       "1 NA  DCA\n",
       "2 SYR NA \n",
       "3 BNA NA \n",
       "4 CLE NA \n",
       "5 RDU NA "
      ]
     },
     "metadata": {},
     "output_type": "display_data"
    },
    {
     "data": {
      "text/html": [
       "<table>\n",
       "<thead><tr><th scope=col>date</th><th scope=col>dep_time</th><th scope=col>sched_dep_time</th><th scope=col>dep_delay</th><th scope=col>arr_time</th><th scope=col>sched_arr_time</th><th scope=col>arr_delay</th><th scope=col>carrier_flight</th><th scope=col>tailnum</th><th scope=col>air_time</th><th scope=col>distance</th><th scope=col>hour</th><th scope=col>minute</th><th scope=col>time_hour</th><th scope=col>EWR</th><th scope=col>LGA</th><th scope=col>JFK</th></tr></thead>\n",
       "<tbody>\n",
       "\t<tr><td>2013/12/8          </td><td>1851               </td><td>1830               </td><td> 21                </td><td>2226               </td><td>2124               </td><td> 62                </td><td>B6_183             </td><td>N624JB             </td><td>138                </td><td>944                </td><td>18                 </td><td>30                 </td><td>2013-12-08 23:00:00</td><td>NA                 </td><td>NA                 </td><td>MCO                </td></tr>\n",
       "\t<tr><td>2013/6/23          </td><td>1946               </td><td>1955               </td><td> -9                </td><td>2153               </td><td>2145               </td><td>  8                </td><td>MQ_3573            </td><td>N735MQ             </td><td> 72                </td><td>479                </td><td>19                 </td><td>55                 </td><td>2013-06-23 23:00:00</td><td>NA                 </td><td>CMH                </td><td>NA                 </td></tr>\n",
       "\t<tr><td>2013/10/11         </td><td>2312               </td><td>2057               </td><td>135                </td><td>  27               </td><td>2236               </td><td>111                </td><td>EV_5048            </td><td>N744EV             </td><td> 52                </td><td>292                </td><td>20                 </td><td>57                 </td><td>2013-10-12 00:00:00</td><td>NA                 </td><td>RIC                </td><td>NA                 </td></tr>\n",
       "\t<tr><td>2013/10/17         </td><td>2000               </td><td>2001               </td><td> -1                </td><td>2238               </td><td>2249               </td><td>-11                </td><td>B6_1083            </td><td>N585JB             </td><td>132                </td><td>944                </td><td>20                 </td><td> 1                 </td><td>2013-10-18 00:00:00</td><td>NA                 </td><td>NA                 </td><td>MCO                </td></tr>\n",
       "\t<tr><td>2013/7/17          </td><td>1607               </td><td>1559               </td><td>  8                </td><td>1755               </td><td>1739               </td><td> 16                </td><td>EV_5841            </td><td>N14950             </td><td>127                </td><td>872                </td><td>15                 </td><td>59                 </td><td>2013-07-17 19:00:00</td><td>STL                </td><td>NA                 </td><td>NA                 </td></tr>\n",
       "</tbody>\n",
       "</table>\n"
      ],
      "text/latex": [
       "\\begin{tabular}{r|lllllllllllllllll}\n",
       " date & dep\\_time & sched\\_dep\\_time & dep\\_delay & arr\\_time & sched\\_arr\\_time & arr\\_delay & carrier\\_flight & tailnum & air\\_time & distance & hour & minute & time\\_hour & EWR & LGA & JFK\\\\\n",
       "\\hline\n",
       "\t 2013/12/8           & 1851                & 1830                &  21                 & 2226                & 2124                &  62                 & B6\\_183            & N624JB              & 138                 & 944                 & 18                  & 30                  & 2013-12-08 23:00:00 & NA                  & NA                  & MCO                \\\\\n",
       "\t 2013/6/23           & 1946                & 1955                &  -9                 & 2153                & 2145                &   8                 & MQ\\_3573           & N735MQ              &  72                 & 479                 & 19                  & 55                  & 2013-06-23 23:00:00 & NA                  & CMH                 & NA                 \\\\\n",
       "\t 2013/10/11          & 2312                & 2057                & 135                 &   27                & 2236                & 111                 & EV\\_5048           & N744EV              &  52                 & 292                 & 20                  & 57                  & 2013-10-12 00:00:00 & NA                  & RIC                 & NA                 \\\\\n",
       "\t 2013/10/17          & 2000                & 2001                &  -1                 & 2238                & 2249                & -11                 & B6\\_1083           & N585JB              & 132                 & 944                 & 20                  &  1                  & 2013-10-18 00:00:00 & NA                  & NA                  & MCO                \\\\\n",
       "\t 2013/7/17           & 1607                & 1559                &   8                 & 1755                & 1739                &  16                 & EV\\_5841           & N14950              & 127                 & 872                 & 15                  & 59                  & 2013-07-17 19:00:00 & STL                 & NA                  & NA                 \\\\\n",
       "\\end{tabular}\n"
      ],
      "text/markdown": [
       "\n",
       "| date | dep_time | sched_dep_time | dep_delay | arr_time | sched_arr_time | arr_delay | carrier_flight | tailnum | air_time | distance | hour | minute | time_hour | EWR | LGA | JFK |\n",
       "|---|---|---|---|---|---|---|---|---|---|---|---|---|---|---|---|---|\n",
       "| 2013/12/8           | 1851                | 1830                |  21                 | 2226                | 2124                |  62                 | B6_183              | N624JB              | 138                 | 944                 | 18                  | 30                  | 2013-12-08 23:00:00 | NA                  | NA                  | MCO                 |\n",
       "| 2013/6/23           | 1946                | 1955                |  -9                 | 2153                | 2145                |   8                 | MQ_3573             | N735MQ              |  72                 | 479                 | 19                  | 55                  | 2013-06-23 23:00:00 | NA                  | CMH                 | NA                  |\n",
       "| 2013/10/11          | 2312                | 2057                | 135                 |   27                | 2236                | 111                 | EV_5048             | N744EV              |  52                 | 292                 | 20                  | 57                  | 2013-10-12 00:00:00 | NA                  | RIC                 | NA                  |\n",
       "| 2013/10/17          | 2000                | 2001                |  -1                 | 2238                | 2249                | -11                 | B6_1083             | N585JB              | 132                 | 944                 | 20                  |  1                  | 2013-10-18 00:00:00 | NA                  | NA                  | MCO                 |\n",
       "| 2013/7/17           | 1607                | 1559                |   8                 | 1755                | 1739                |  16                 | EV_5841             | N14950              | 127                 | 872                 | 15                  | 59                  | 2013-07-17 19:00:00 | STL                 | NA                  | NA                  |\n",
       "\n"
      ],
      "text/plain": [
       "  date       dep_time sched_dep_time dep_delay arr_time sched_arr_time\n",
       "1 2013/12/8  1851     1830            21       2226     2124          \n",
       "2 2013/6/23  1946     1955            -9       2153     2145          \n",
       "3 2013/10/11 2312     2057           135         27     2236          \n",
       "4 2013/10/17 2000     2001            -1       2238     2249          \n",
       "5 2013/7/17  1607     1559             8       1755     1739          \n",
       "  arr_delay carrier_flight tailnum air_time distance hour minute\n",
       "1  62       B6_183         N624JB  138      944      18   30    \n",
       "2   8       MQ_3573        N735MQ   72      479      19   55    \n",
       "3 111       EV_5048        N744EV   52      292      20   57    \n",
       "4 -11       B6_1083        N585JB  132      944      20    1    \n",
       "5  16       EV_5841        N14950  127      872      15   59    \n",
       "  time_hour           EWR LGA JFK\n",
       "1 2013-12-08 23:00:00 NA  NA  MCO\n",
       "2 2013-06-23 23:00:00 NA  CMH NA \n",
       "3 2013-10-12 00:00:00 NA  RIC NA \n",
       "4 2013-10-18 00:00:00 NA  NA  MCO\n",
       "5 2013-07-17 19:00:00 STL NA  NA "
      ]
     },
     "metadata": {},
     "output_type": "display_data"
    }
   ],
   "source": [
    "print(tidy)\n",
    "head(tidy, 5)\n",
    "tail(tidy, 5)\n",
    "sample_n(tidy, 5)"
   ]
  },
  {
   "cell_type": "code",
   "execution_count": 9,
   "metadata": {},
   "outputs": [
    {
     "name": "stderr",
     "output_type": "stream",
     "text": [
      "Parsed with column specification:\n",
      "cols(\n",
      "  year = col_double(),\n",
      "  month = col_double(),\n",
      "  day = col_double(),\n",
      "  carrier = col_character(),\n",
      "  flight = col_double(),\n",
      "  tailnum = col_character(),\n",
      "  origin = col_character(),\n",
      "  dest = col_character()\n",
      ")\n"
     ]
    }
   ],
   "source": [
    "final <- tidy %>% separate(date, c(\"year\", \"month\", \"day\"), sep = \"/\") %>%\n",
    "                  separate(carrier_flight, c(\"carrier\", \"flight\"), sep = \"_\") %>%\n",
    "                  pivot_longer(cols = c(`EWR`, `LGA`, `JFK`), names_to = \"origin\",\n",
    "                               values_to = \"dest\", values_drop_na = TRUE) %>%\n",
    "                  type_convert()"
   ]
  },
  {
   "cell_type": "code",
   "execution_count": 10,
   "metadata": {},
   "outputs": [
    {
     "name": "stdout",
     "output_type": "stream",
     "text": [
      "# A tibble: 336,776 x 19\n",
      "    year month   day dep_time sched_dep_time dep_delay arr_time sched_arr_time\n",
      "   <dbl> <dbl> <dbl>    <dbl>          <dbl>     <dbl>    <dbl>          <dbl>\n",
      " 1  2013     1     1      517            515         2      830            819\n",
      " 2  2013     1     1      533            529         4      850            830\n",
      " 3  2013     1     1      542            540         2      923            850\n",
      " 4  2013     1     1      544            545        -1     1004           1022\n",
      " 5  2013     1     1      554            600        -6      812            837\n",
      " 6  2013     1     1      554            558        -4      740            728\n",
      " 7  2013     1     1      555            600        -5      913            854\n",
      " 8  2013     1     1      557            600        -3      709            723\n",
      " 9  2013     1     1      557            600        -3      838            846\n",
      "10  2013     1     1      558            600        -2      753            745\n",
      "# … with 336,766 more rows, and 11 more variables: arr_delay <dbl>,\n",
      "#   carrier <chr>, flight <dbl>, tailnum <chr>, air_time <dbl>, distance <dbl>,\n",
      "#   hour <dbl>, minute <dbl>, time_hour <dttm>, origin <chr>, dest <chr>\n"
     ]
    },
    {
     "data": {
      "text/html": [
       "<table>\n",
       "<thead><tr><th scope=col>year</th><th scope=col>month</th><th scope=col>day</th><th scope=col>dep_time</th><th scope=col>sched_dep_time</th><th scope=col>dep_delay</th><th scope=col>arr_time</th><th scope=col>sched_arr_time</th><th scope=col>arr_delay</th><th scope=col>carrier</th><th scope=col>flight</th><th scope=col>tailnum</th><th scope=col>air_time</th><th scope=col>distance</th><th scope=col>hour</th><th scope=col>minute</th><th scope=col>time_hour</th><th scope=col>origin</th><th scope=col>dest</th></tr></thead>\n",
       "<tbody>\n",
       "\t<tr><td>2013               </td><td>1                  </td><td>1                  </td><td>517                </td><td>515                </td><td> 2                 </td><td> 830               </td><td> 819               </td><td> 11                </td><td>UA                 </td><td>1545               </td><td>N14228             </td><td>227                </td><td>1400               </td><td>5                  </td><td>15                 </td><td>2013-01-01 10:00:00</td><td>EWR                </td><td>IAH                </td></tr>\n",
       "\t<tr><td>2013               </td><td>1                  </td><td>1                  </td><td>533                </td><td>529                </td><td> 4                 </td><td> 850               </td><td> 830               </td><td> 20                </td><td>UA                 </td><td>1714               </td><td>N24211             </td><td>227                </td><td>1416               </td><td>5                  </td><td>29                 </td><td>2013-01-01 10:00:00</td><td>LGA                </td><td>IAH                </td></tr>\n",
       "\t<tr><td>2013               </td><td>1                  </td><td>1                  </td><td>542                </td><td>540                </td><td> 2                 </td><td> 923               </td><td> 850               </td><td> 33                </td><td>AA                 </td><td>1141               </td><td>N619AA             </td><td>160                </td><td>1089               </td><td>5                  </td><td>40                 </td><td>2013-01-01 10:00:00</td><td>JFK                </td><td>MIA                </td></tr>\n",
       "\t<tr><td>2013               </td><td>1                  </td><td>1                  </td><td>544                </td><td>545                </td><td>-1                 </td><td>1004               </td><td>1022               </td><td>-18                </td><td>B6                 </td><td> 725               </td><td>N804JB             </td><td>183                </td><td>1576               </td><td>5                  </td><td>45                 </td><td>2013-01-01 10:00:00</td><td>JFK                </td><td>BQN                </td></tr>\n",
       "\t<tr><td>2013               </td><td>1                  </td><td>1                  </td><td>554                </td><td>600                </td><td>-6                 </td><td> 812               </td><td> 837               </td><td>-25                </td><td>DL                 </td><td> 461               </td><td>N668DN             </td><td>116                </td><td> 762               </td><td>6                  </td><td> 0                 </td><td>2013-01-01 11:00:00</td><td>LGA                </td><td>ATL                </td></tr>\n",
       "</tbody>\n",
       "</table>\n"
      ],
      "text/latex": [
       "\\begin{tabular}{r|lllllllllllllllllll}\n",
       " year & month & day & dep\\_time & sched\\_dep\\_time & dep\\_delay & arr\\_time & sched\\_arr\\_time & arr\\_delay & carrier & flight & tailnum & air\\_time & distance & hour & minute & time\\_hour & origin & dest\\\\\n",
       "\\hline\n",
       "\t 2013                & 1                   & 1                   & 517                 & 515                 &  2                  &  830                &  819                &  11                 & UA                  & 1545                & N14228              & 227                 & 1400                & 5                   & 15                  & 2013-01-01 10:00:00 & EWR                 & IAH                \\\\\n",
       "\t 2013                & 1                   & 1                   & 533                 & 529                 &  4                  &  850                &  830                &  20                 & UA                  & 1714                & N24211              & 227                 & 1416                & 5                   & 29                  & 2013-01-01 10:00:00 & LGA                 & IAH                \\\\\n",
       "\t 2013                & 1                   & 1                   & 542                 & 540                 &  2                  &  923                &  850                &  33                 & AA                  & 1141                & N619AA              & 160                 & 1089                & 5                   & 40                  & 2013-01-01 10:00:00 & JFK                 & MIA                \\\\\n",
       "\t 2013                & 1                   & 1                   & 544                 & 545                 & -1                  & 1004                & 1022                & -18                 & B6                  &  725                & N804JB              & 183                 & 1576                & 5                   & 45                  & 2013-01-01 10:00:00 & JFK                 & BQN                \\\\\n",
       "\t 2013                & 1                   & 1                   & 554                 & 600                 & -6                  &  812                &  837                & -25                 & DL                  &  461                & N668DN              & 116                 &  762                & 6                   &  0                  & 2013-01-01 11:00:00 & LGA                 & ATL                \\\\\n",
       "\\end{tabular}\n"
      ],
      "text/markdown": [
       "\n",
       "| year | month | day | dep_time | sched_dep_time | dep_delay | arr_time | sched_arr_time | arr_delay | carrier | flight | tailnum | air_time | distance | hour | minute | time_hour | origin | dest |\n",
       "|---|---|---|---|---|---|---|---|---|---|---|---|---|---|---|---|---|---|---|\n",
       "| 2013                | 1                   | 1                   | 517                 | 515                 |  2                  |  830                |  819                |  11                 | UA                  | 1545                | N14228              | 227                 | 1400                | 5                   | 15                  | 2013-01-01 10:00:00 | EWR                 | IAH                 |\n",
       "| 2013                | 1                   | 1                   | 533                 | 529                 |  4                  |  850                |  830                |  20                 | UA                  | 1714                | N24211              | 227                 | 1416                | 5                   | 29                  | 2013-01-01 10:00:00 | LGA                 | IAH                 |\n",
       "| 2013                | 1                   | 1                   | 542                 | 540                 |  2                  |  923                |  850                |  33                 | AA                  | 1141                | N619AA              | 160                 | 1089                | 5                   | 40                  | 2013-01-01 10:00:00 | JFK                 | MIA                 |\n",
       "| 2013                | 1                   | 1                   | 544                 | 545                 | -1                  | 1004                | 1022                | -18                 | B6                  |  725                | N804JB              | 183                 | 1576                | 5                   | 45                  | 2013-01-01 10:00:00 | JFK                 | BQN                 |\n",
       "| 2013                | 1                   | 1                   | 554                 | 600                 | -6                  |  812                |  837                | -25                 | DL                  |  461                | N668DN              | 116                 |  762                | 6                   |  0                  | 2013-01-01 11:00:00 | LGA                 | ATL                 |\n",
       "\n"
      ],
      "text/plain": [
       "  year month day dep_time sched_dep_time dep_delay arr_time sched_arr_time\n",
       "1 2013 1     1   517      515             2         830      819          \n",
       "2 2013 1     1   533      529             4         850      830          \n",
       "3 2013 1     1   542      540             2         923      850          \n",
       "4 2013 1     1   544      545            -1        1004     1022          \n",
       "5 2013 1     1   554      600            -6         812      837          \n",
       "  arr_delay carrier flight tailnum air_time distance hour minute\n",
       "1  11       UA      1545   N14228  227      1400     5    15    \n",
       "2  20       UA      1714   N24211  227      1416     5    29    \n",
       "3  33       AA      1141   N619AA  160      1089     5    40    \n",
       "4 -18       B6       725   N804JB  183      1576     5    45    \n",
       "5 -25       DL       461   N668DN  116       762     6     0    \n",
       "  time_hour           origin dest\n",
       "1 2013-01-01 10:00:00 EWR    IAH \n",
       "2 2013-01-01 10:00:00 LGA    IAH \n",
       "3 2013-01-01 10:00:00 JFK    MIA \n",
       "4 2013-01-01 10:00:00 JFK    BQN \n",
       "5 2013-01-01 11:00:00 LGA    ATL "
      ]
     },
     "metadata": {},
     "output_type": "display_data"
    },
    {
     "data": {
      "text/html": [
       "<table>\n",
       "<thead><tr><th scope=col>year</th><th scope=col>month</th><th scope=col>day</th><th scope=col>dep_time</th><th scope=col>sched_dep_time</th><th scope=col>dep_delay</th><th scope=col>arr_time</th><th scope=col>sched_arr_time</th><th scope=col>arr_delay</th><th scope=col>carrier</th><th scope=col>flight</th><th scope=col>tailnum</th><th scope=col>air_time</th><th scope=col>distance</th><th scope=col>hour</th><th scope=col>minute</th><th scope=col>time_hour</th><th scope=col>origin</th><th scope=col>dest</th></tr></thead>\n",
       "<tbody>\n",
       "\t<tr><td>2013               </td><td>9                  </td><td>30                 </td><td>NA                 </td><td>1455               </td><td>NA                 </td><td>NA                 </td><td>1634               </td><td>NA                 </td><td>9E                 </td><td>3393               </td><td>NA                 </td><td>NA                 </td><td>213                </td><td>14                 </td><td>55                 </td><td>2013-09-30 18:00:00</td><td>JFK                </td><td>DCA                </td></tr>\n",
       "\t<tr><td>2013               </td><td>9                  </td><td>30                 </td><td>NA                 </td><td>2200               </td><td>NA                 </td><td>NA                 </td><td>2312               </td><td>NA                 </td><td>9E                 </td><td>3525               </td><td>NA                 </td><td>NA                 </td><td>198                </td><td>22                 </td><td> 0                 </td><td>2013-10-01 02:00:00</td><td>LGA                </td><td>SYR                </td></tr>\n",
       "\t<tr><td>2013               </td><td>9                  </td><td>30                 </td><td>NA                 </td><td>1210               </td><td>NA                 </td><td>NA                 </td><td>1330               </td><td>NA                 </td><td>MQ                 </td><td>3461               </td><td>N535MQ             </td><td>NA                 </td><td>764                </td><td>12                 </td><td>10                 </td><td>2013-09-30 16:00:00</td><td>LGA                </td><td>BNA                </td></tr>\n",
       "\t<tr><td>2013               </td><td>9                  </td><td>30                 </td><td>NA                 </td><td>1159               </td><td>NA                 </td><td>NA                 </td><td>1344               </td><td>NA                 </td><td>MQ                 </td><td>3572               </td><td>N511MQ             </td><td>NA                 </td><td>419                </td><td>11                 </td><td>59                 </td><td>2013-09-30 15:00:00</td><td>LGA                </td><td>CLE                </td></tr>\n",
       "\t<tr><td>2013               </td><td>9                  </td><td>30                 </td><td>NA                 </td><td> 840               </td><td>NA                 </td><td>NA                 </td><td>1020               </td><td>NA                 </td><td>MQ                 </td><td>3531               </td><td>N839MQ             </td><td>NA                 </td><td>431                </td><td> 8                 </td><td>40                 </td><td>2013-09-30 12:00:00</td><td>LGA                </td><td>RDU                </td></tr>\n",
       "</tbody>\n",
       "</table>\n"
      ],
      "text/latex": [
       "\\begin{tabular}{r|lllllllllllllllllll}\n",
       " year & month & day & dep\\_time & sched\\_dep\\_time & dep\\_delay & arr\\_time & sched\\_arr\\_time & arr\\_delay & carrier & flight & tailnum & air\\_time & distance & hour & minute & time\\_hour & origin & dest\\\\\n",
       "\\hline\n",
       "\t 2013                & 9                   & 30                  & NA                  & 1455                & NA                  & NA                  & 1634                & NA                  & 9E                  & 3393                & NA                  & NA                  & 213                 & 14                  & 55                  & 2013-09-30 18:00:00 & JFK                 & DCA                \\\\\n",
       "\t 2013                & 9                   & 30                  & NA                  & 2200                & NA                  & NA                  & 2312                & NA                  & 9E                  & 3525                & NA                  & NA                  & 198                 & 22                  &  0                  & 2013-10-01 02:00:00 & LGA                 & SYR                \\\\\n",
       "\t 2013                & 9                   & 30                  & NA                  & 1210                & NA                  & NA                  & 1330                & NA                  & MQ                  & 3461                & N535MQ              & NA                  & 764                 & 12                  & 10                  & 2013-09-30 16:00:00 & LGA                 & BNA                \\\\\n",
       "\t 2013                & 9                   & 30                  & NA                  & 1159                & NA                  & NA                  & 1344                & NA                  & MQ                  & 3572                & N511MQ              & NA                  & 419                 & 11                  & 59                  & 2013-09-30 15:00:00 & LGA                 & CLE                \\\\\n",
       "\t 2013                & 9                   & 30                  & NA                  &  840                & NA                  & NA                  & 1020                & NA                  & MQ                  & 3531                & N839MQ              & NA                  & 431                 &  8                  & 40                  & 2013-09-30 12:00:00 & LGA                 & RDU                \\\\\n",
       "\\end{tabular}\n"
      ],
      "text/markdown": [
       "\n",
       "| year | month | day | dep_time | sched_dep_time | dep_delay | arr_time | sched_arr_time | arr_delay | carrier | flight | tailnum | air_time | distance | hour | minute | time_hour | origin | dest |\n",
       "|---|---|---|---|---|---|---|---|---|---|---|---|---|---|---|---|---|---|---|\n",
       "| 2013                | 9                   | 30                  | NA                  | 1455                | NA                  | NA                  | 1634                | NA                  | 9E                  | 3393                | NA                  | NA                  | 213                 | 14                  | 55                  | 2013-09-30 18:00:00 | JFK                 | DCA                 |\n",
       "| 2013                | 9                   | 30                  | NA                  | 2200                | NA                  | NA                  | 2312                | NA                  | 9E                  | 3525                | NA                  | NA                  | 198                 | 22                  |  0                  | 2013-10-01 02:00:00 | LGA                 | SYR                 |\n",
       "| 2013                | 9                   | 30                  | NA                  | 1210                | NA                  | NA                  | 1330                | NA                  | MQ                  | 3461                | N535MQ              | NA                  | 764                 | 12                  | 10                  | 2013-09-30 16:00:00 | LGA                 | BNA                 |\n",
       "| 2013                | 9                   | 30                  | NA                  | 1159                | NA                  | NA                  | 1344                | NA                  | MQ                  | 3572                | N511MQ              | NA                  | 419                 | 11                  | 59                  | 2013-09-30 15:00:00 | LGA                 | CLE                 |\n",
       "| 2013                | 9                   | 30                  | NA                  |  840                | NA                  | NA                  | 1020                | NA                  | MQ                  | 3531                | N839MQ              | NA                  | 431                 |  8                  | 40                  | 2013-09-30 12:00:00 | LGA                 | RDU                 |\n",
       "\n"
      ],
      "text/plain": [
       "  year month day dep_time sched_dep_time dep_delay arr_time sched_arr_time\n",
       "1 2013 9     30  NA       1455           NA        NA       1634          \n",
       "2 2013 9     30  NA       2200           NA        NA       2312          \n",
       "3 2013 9     30  NA       1210           NA        NA       1330          \n",
       "4 2013 9     30  NA       1159           NA        NA       1344          \n",
       "5 2013 9     30  NA        840           NA        NA       1020          \n",
       "  arr_delay carrier flight tailnum air_time distance hour minute\n",
       "1 NA        9E      3393   NA      NA       213      14   55    \n",
       "2 NA        9E      3525   NA      NA       198      22    0    \n",
       "3 NA        MQ      3461   N535MQ  NA       764      12   10    \n",
       "4 NA        MQ      3572   N511MQ  NA       419      11   59    \n",
       "5 NA        MQ      3531   N839MQ  NA       431       8   40    \n",
       "  time_hour           origin dest\n",
       "1 2013-09-30 18:00:00 JFK    DCA \n",
       "2 2013-10-01 02:00:00 LGA    SYR \n",
       "3 2013-09-30 16:00:00 LGA    BNA \n",
       "4 2013-09-30 15:00:00 LGA    CLE \n",
       "5 2013-09-30 12:00:00 LGA    RDU "
      ]
     },
     "metadata": {},
     "output_type": "display_data"
    },
    {
     "data": {
      "text/html": [
       "<table>\n",
       "<thead><tr><th scope=col>year</th><th scope=col>month</th><th scope=col>day</th><th scope=col>dep_time</th><th scope=col>sched_dep_time</th><th scope=col>dep_delay</th><th scope=col>arr_time</th><th scope=col>sched_arr_time</th><th scope=col>arr_delay</th><th scope=col>carrier</th><th scope=col>flight</th><th scope=col>tailnum</th><th scope=col>air_time</th><th scope=col>distance</th><th scope=col>hour</th><th scope=col>minute</th><th scope=col>time_hour</th><th scope=col>origin</th><th scope=col>dest</th></tr></thead>\n",
       "<tbody>\n",
       "\t<tr><td>2013               </td><td> 8                 </td><td>17                 </td><td>1657               </td><td>1655               </td><td>  2                </td><td>1936               </td><td>2005               </td><td>-29                </td><td>VX                 </td><td> 413               </td><td>N640VA             </td><td>320                </td><td>2475               </td><td>16                 </td><td>55                 </td><td>2013-08-17 20:00:00</td><td>JFK                </td><td>LAX                </td></tr>\n",
       "\t<tr><td>2013               </td><td> 1                 </td><td> 3                 </td><td>1533               </td><td>1530               </td><td>  3                </td><td>1846               </td><td>1838               </td><td>  8                </td><td>UA                 </td><td>1624               </td><td>N77258             </td><td>162                </td><td>1065               </td><td>15                 </td><td>30                 </td><td>2013-01-03 20:00:00</td><td>EWR                </td><td>FLL                </td></tr>\n",
       "\t<tr><td>2013               </td><td> 4                 </td><td>30                 </td><td>2004               </td><td>2008               </td><td> -4                </td><td>2223               </td><td>2314               </td><td>-51                </td><td>UA                 </td><td> 370               </td><td>N407UA             </td><td>184                </td><td>1504               </td><td>20                 </td><td> 8                 </td><td>2013-05-01 00:00:00</td><td>EWR                </td><td>AUS                </td></tr>\n",
       "\t<tr><td>2013               </td><td>11                 </td><td>21                 </td><td>1738               </td><td>1725               </td><td> 13                </td><td>2040               </td><td>2028               </td><td> 12                </td><td>UA                 </td><td> 475               </td><td>N415UA             </td><td>200                </td><td>1400               </td><td>17                 </td><td>25                 </td><td>2013-11-21 22:00:00</td><td>EWR                </td><td>IAH                </td></tr>\n",
       "\t<tr><td>2013               </td><td> 8                 </td><td>22                 </td><td>1745               </td><td>1555               </td><td>110                </td><td>2025               </td><td>1904               </td><td> 81                </td><td>DL                 </td><td>2407               </td><td>N3746H             </td><td>124                </td><td> 944               </td><td>15                 </td><td>55                 </td><td>2013-08-22 19:00:00</td><td>JFK                </td><td>MCO                </td></tr>\n",
       "</tbody>\n",
       "</table>\n"
      ],
      "text/latex": [
       "\\begin{tabular}{r|lllllllllllllllllll}\n",
       " year & month & day & dep\\_time & sched\\_dep\\_time & dep\\_delay & arr\\_time & sched\\_arr\\_time & arr\\_delay & carrier & flight & tailnum & air\\_time & distance & hour & minute & time\\_hour & origin & dest\\\\\n",
       "\\hline\n",
       "\t 2013                &  8                  & 17                  & 1657                & 1655                &   2                 & 1936                & 2005                & -29                 & VX                  &  413                & N640VA              & 320                 & 2475                & 16                  & 55                  & 2013-08-17 20:00:00 & JFK                 & LAX                \\\\\n",
       "\t 2013                &  1                  &  3                  & 1533                & 1530                &   3                 & 1846                & 1838                &   8                 & UA                  & 1624                & N77258              & 162                 & 1065                & 15                  & 30                  & 2013-01-03 20:00:00 & EWR                 & FLL                \\\\\n",
       "\t 2013                &  4                  & 30                  & 2004                & 2008                &  -4                 & 2223                & 2314                & -51                 & UA                  &  370                & N407UA              & 184                 & 1504                & 20                  &  8                  & 2013-05-01 00:00:00 & EWR                 & AUS                \\\\\n",
       "\t 2013                & 11                  & 21                  & 1738                & 1725                &  13                 & 2040                & 2028                &  12                 & UA                  &  475                & N415UA              & 200                 & 1400                & 17                  & 25                  & 2013-11-21 22:00:00 & EWR                 & IAH                \\\\\n",
       "\t 2013                &  8                  & 22                  & 1745                & 1555                & 110                 & 2025                & 1904                &  81                 & DL                  & 2407                & N3746H              & 124                 &  944                & 15                  & 55                  & 2013-08-22 19:00:00 & JFK                 & MCO                \\\\\n",
       "\\end{tabular}\n"
      ],
      "text/markdown": [
       "\n",
       "| year | month | day | dep_time | sched_dep_time | dep_delay | arr_time | sched_arr_time | arr_delay | carrier | flight | tailnum | air_time | distance | hour | minute | time_hour | origin | dest |\n",
       "|---|---|---|---|---|---|---|---|---|---|---|---|---|---|---|---|---|---|---|\n",
       "| 2013                |  8                  | 17                  | 1657                | 1655                |   2                 | 1936                | 2005                | -29                 | VX                  |  413                | N640VA              | 320                 | 2475                | 16                  | 55                  | 2013-08-17 20:00:00 | JFK                 | LAX                 |\n",
       "| 2013                |  1                  |  3                  | 1533                | 1530                |   3                 | 1846                | 1838                |   8                 | UA                  | 1624                | N77258              | 162                 | 1065                | 15                  | 30                  | 2013-01-03 20:00:00 | EWR                 | FLL                 |\n",
       "| 2013                |  4                  | 30                  | 2004                | 2008                |  -4                 | 2223                | 2314                | -51                 | UA                  |  370                | N407UA              | 184                 | 1504                | 20                  |  8                  | 2013-05-01 00:00:00 | EWR                 | AUS                 |\n",
       "| 2013                | 11                  | 21                  | 1738                | 1725                |  13                 | 2040                | 2028                |  12                 | UA                  |  475                | N415UA              | 200                 | 1400                | 17                  | 25                  | 2013-11-21 22:00:00 | EWR                 | IAH                 |\n",
       "| 2013                |  8                  | 22                  | 1745                | 1555                | 110                 | 2025                | 1904                |  81                 | DL                  | 2407                | N3746H              | 124                 |  944                | 15                  | 55                  | 2013-08-22 19:00:00 | JFK                 | MCO                 |\n",
       "\n"
      ],
      "text/plain": [
       "  year month day dep_time sched_dep_time dep_delay arr_time sched_arr_time\n",
       "1 2013  8    17  1657     1655             2       1936     2005          \n",
       "2 2013  1     3  1533     1530             3       1846     1838          \n",
       "3 2013  4    30  2004     2008            -4       2223     2314          \n",
       "4 2013 11    21  1738     1725            13       2040     2028          \n",
       "5 2013  8    22  1745     1555           110       2025     1904          \n",
       "  arr_delay carrier flight tailnum air_time distance hour minute\n",
       "1 -29       VX       413   N640VA  320      2475     16   55    \n",
       "2   8       UA      1624   N77258  162      1065     15   30    \n",
       "3 -51       UA       370   N407UA  184      1504     20    8    \n",
       "4  12       UA       475   N415UA  200      1400     17   25    \n",
       "5  81       DL      2407   N3746H  124       944     15   55    \n",
       "  time_hour           origin dest\n",
       "1 2013-08-17 20:00:00 JFK    LAX \n",
       "2 2013-01-03 20:00:00 EWR    FLL \n",
       "3 2013-05-01 00:00:00 EWR    AUS \n",
       "4 2013-11-21 22:00:00 EWR    IAH \n",
       "5 2013-08-22 19:00:00 JFK    MCO "
      ]
     },
     "metadata": {},
     "output_type": "display_data"
    }
   ],
   "source": [
    "print(final)\n",
    "head(final, 5)\n",
    "tail(final, 5)\n",
    "sample_n(final, 5)"
   ]
  },
  {
   "cell_type": "code",
   "execution_count": 15,
   "metadata": {},
   "outputs": [],
   "source": [
    "final$year <- final$year %>% as.integer(final$year)\n",
    "final$month <- final$month %>% as.integer(final$month)\n",
    "final$day <- final$day %>% as.integer(final$day)\n",
    "final$dep_time <- final$dep_time %>% as.integer(final$dep_time)\n",
    "final$sched_dep_time <- final$sched_dep_time %>% as.integer(final$sched_dep_time)\n",
    "final$arr_time <- final$arr_time %>% as.integer(final$arr_time)\n",
    "final$sched_arr_time <- final$sched_arr_time %>% as.integer(final$sched_arr_time)\n",
    "final$flight <- final$flight %>% as.integer(final$flight)\n",
    "final$flight <- final$flight %>% as.integer(final$flight)"
   ]
  },
  {
   "cell_type": "code",
   "execution_count": 16,
   "metadata": {},
   "outputs": [
    {
     "name": "stdout",
     "output_type": "stream",
     "text": [
      "# A tibble: 336,776 x 19\n",
      "    year month   day dep_time sched_dep_time dep_delay arr_time sched_arr_time\n",
      "   <int> <int> <int>    <int>          <int>     <dbl>    <int>          <int>\n",
      " 1  2013     1     1      517            515         2      830            819\n",
      " 2  2013     1     1      533            529         4      850            830\n",
      " 3  2013     1     1      542            540         2      923            850\n",
      " 4  2013     1     1      544            545        -1     1004           1022\n",
      " 5  2013     1     1      554            600        -6      812            837\n",
      " 6  2013     1     1      554            558        -4      740            728\n",
      " 7  2013     1     1      555            600        -5      913            854\n",
      " 8  2013     1     1      557            600        -3      709            723\n",
      " 9  2013     1     1      557            600        -3      838            846\n",
      "10  2013     1     1      558            600        -2      753            745\n",
      "# … with 336,766 more rows, and 11 more variables: arr_delay <dbl>,\n",
      "#   carrier <chr>, flight <int>, tailnum <chr>, air_time <dbl>, distance <dbl>,\n",
      "#   hour <dbl>, minute <dbl>, time_hour <dttm>, origin <chr>, dest <chr>\n"
     ]
    },
    {
     "data": {
      "text/html": [
       "<table>\n",
       "<thead><tr><th scope=col>year</th><th scope=col>month</th><th scope=col>day</th><th scope=col>dep_time</th><th scope=col>sched_dep_time</th><th scope=col>dep_delay</th><th scope=col>arr_time</th><th scope=col>sched_arr_time</th><th scope=col>arr_delay</th><th scope=col>carrier</th><th scope=col>flight</th><th scope=col>tailnum</th><th scope=col>air_time</th><th scope=col>distance</th><th scope=col>hour</th><th scope=col>minute</th><th scope=col>time_hour</th><th scope=col>origin</th><th scope=col>dest</th></tr></thead>\n",
       "<tbody>\n",
       "\t<tr><td>2013               </td><td>1                  </td><td>1                  </td><td>517                </td><td>515                </td><td> 2                 </td><td> 830               </td><td> 819               </td><td> 11                </td><td>UA                 </td><td>1545               </td><td>N14228             </td><td>227                </td><td>1400               </td><td>5                  </td><td>15                 </td><td>2013-01-01 10:00:00</td><td>EWR                </td><td>IAH                </td></tr>\n",
       "\t<tr><td>2013               </td><td>1                  </td><td>1                  </td><td>533                </td><td>529                </td><td> 4                 </td><td> 850               </td><td> 830               </td><td> 20                </td><td>UA                 </td><td>1714               </td><td>N24211             </td><td>227                </td><td>1416               </td><td>5                  </td><td>29                 </td><td>2013-01-01 10:00:00</td><td>LGA                </td><td>IAH                </td></tr>\n",
       "\t<tr><td>2013               </td><td>1                  </td><td>1                  </td><td>542                </td><td>540                </td><td> 2                 </td><td> 923               </td><td> 850               </td><td> 33                </td><td>AA                 </td><td>1141               </td><td>N619AA             </td><td>160                </td><td>1089               </td><td>5                  </td><td>40                 </td><td>2013-01-01 10:00:00</td><td>JFK                </td><td>MIA                </td></tr>\n",
       "\t<tr><td>2013               </td><td>1                  </td><td>1                  </td><td>544                </td><td>545                </td><td>-1                 </td><td>1004               </td><td>1022               </td><td>-18                </td><td>B6                 </td><td> 725               </td><td>N804JB             </td><td>183                </td><td>1576               </td><td>5                  </td><td>45                 </td><td>2013-01-01 10:00:00</td><td>JFK                </td><td>BQN                </td></tr>\n",
       "\t<tr><td>2013               </td><td>1                  </td><td>1                  </td><td>554                </td><td>600                </td><td>-6                 </td><td> 812               </td><td> 837               </td><td>-25                </td><td>DL                 </td><td> 461               </td><td>N668DN             </td><td>116                </td><td> 762               </td><td>6                  </td><td> 0                 </td><td>2013-01-01 11:00:00</td><td>LGA                </td><td>ATL                </td></tr>\n",
       "</tbody>\n",
       "</table>\n"
      ],
      "text/latex": [
       "\\begin{tabular}{r|lllllllllllllllllll}\n",
       " year & month & day & dep\\_time & sched\\_dep\\_time & dep\\_delay & arr\\_time & sched\\_arr\\_time & arr\\_delay & carrier & flight & tailnum & air\\_time & distance & hour & minute & time\\_hour & origin & dest\\\\\n",
       "\\hline\n",
       "\t 2013                & 1                   & 1                   & 517                 & 515                 &  2                  &  830                &  819                &  11                 & UA                  & 1545                & N14228              & 227                 & 1400                & 5                   & 15                  & 2013-01-01 10:00:00 & EWR                 & IAH                \\\\\n",
       "\t 2013                & 1                   & 1                   & 533                 & 529                 &  4                  &  850                &  830                &  20                 & UA                  & 1714                & N24211              & 227                 & 1416                & 5                   & 29                  & 2013-01-01 10:00:00 & LGA                 & IAH                \\\\\n",
       "\t 2013                & 1                   & 1                   & 542                 & 540                 &  2                  &  923                &  850                &  33                 & AA                  & 1141                & N619AA              & 160                 & 1089                & 5                   & 40                  & 2013-01-01 10:00:00 & JFK                 & MIA                \\\\\n",
       "\t 2013                & 1                   & 1                   & 544                 & 545                 & -1                  & 1004                & 1022                & -18                 & B6                  &  725                & N804JB              & 183                 & 1576                & 5                   & 45                  & 2013-01-01 10:00:00 & JFK                 & BQN                \\\\\n",
       "\t 2013                & 1                   & 1                   & 554                 & 600                 & -6                  &  812                &  837                & -25                 & DL                  &  461                & N668DN              & 116                 &  762                & 6                   &  0                  & 2013-01-01 11:00:00 & LGA                 & ATL                \\\\\n",
       "\\end{tabular}\n"
      ],
      "text/markdown": [
       "\n",
       "| year | month | day | dep_time | sched_dep_time | dep_delay | arr_time | sched_arr_time | arr_delay | carrier | flight | tailnum | air_time | distance | hour | minute | time_hour | origin | dest |\n",
       "|---|---|---|---|---|---|---|---|---|---|---|---|---|---|---|---|---|---|---|\n",
       "| 2013                | 1                   | 1                   | 517                 | 515                 |  2                  |  830                |  819                |  11                 | UA                  | 1545                | N14228              | 227                 | 1400                | 5                   | 15                  | 2013-01-01 10:00:00 | EWR                 | IAH                 |\n",
       "| 2013                | 1                   | 1                   | 533                 | 529                 |  4                  |  850                |  830                |  20                 | UA                  | 1714                | N24211              | 227                 | 1416                | 5                   | 29                  | 2013-01-01 10:00:00 | LGA                 | IAH                 |\n",
       "| 2013                | 1                   | 1                   | 542                 | 540                 |  2                  |  923                |  850                |  33                 | AA                  | 1141                | N619AA              | 160                 | 1089                | 5                   | 40                  | 2013-01-01 10:00:00 | JFK                 | MIA                 |\n",
       "| 2013                | 1                   | 1                   | 544                 | 545                 | -1                  | 1004                | 1022                | -18                 | B6                  |  725                | N804JB              | 183                 | 1576                | 5                   | 45                  | 2013-01-01 10:00:00 | JFK                 | BQN                 |\n",
       "| 2013                | 1                   | 1                   | 554                 | 600                 | -6                  |  812                |  837                | -25                 | DL                  |  461                | N668DN              | 116                 |  762                | 6                   |  0                  | 2013-01-01 11:00:00 | LGA                 | ATL                 |\n",
       "\n"
      ],
      "text/plain": [
       "  year month day dep_time sched_dep_time dep_delay arr_time sched_arr_time\n",
       "1 2013 1     1   517      515             2         830      819          \n",
       "2 2013 1     1   533      529             4         850      830          \n",
       "3 2013 1     1   542      540             2         923      850          \n",
       "4 2013 1     1   544      545            -1        1004     1022          \n",
       "5 2013 1     1   554      600            -6         812      837          \n",
       "  arr_delay carrier flight tailnum air_time distance hour minute\n",
       "1  11       UA      1545   N14228  227      1400     5    15    \n",
       "2  20       UA      1714   N24211  227      1416     5    29    \n",
       "3  33       AA      1141   N619AA  160      1089     5    40    \n",
       "4 -18       B6       725   N804JB  183      1576     5    45    \n",
       "5 -25       DL       461   N668DN  116       762     6     0    \n",
       "  time_hour           origin dest\n",
       "1 2013-01-01 10:00:00 EWR    IAH \n",
       "2 2013-01-01 10:00:00 LGA    IAH \n",
       "3 2013-01-01 10:00:00 JFK    MIA \n",
       "4 2013-01-01 10:00:00 JFK    BQN \n",
       "5 2013-01-01 11:00:00 LGA    ATL "
      ]
     },
     "metadata": {},
     "output_type": "display_data"
    },
    {
     "data": {
      "text/html": [
       "<table>\n",
       "<thead><tr><th scope=col>year</th><th scope=col>month</th><th scope=col>day</th><th scope=col>dep_time</th><th scope=col>sched_dep_time</th><th scope=col>dep_delay</th><th scope=col>arr_time</th><th scope=col>sched_arr_time</th><th scope=col>arr_delay</th><th scope=col>carrier</th><th scope=col>flight</th><th scope=col>tailnum</th><th scope=col>air_time</th><th scope=col>distance</th><th scope=col>hour</th><th scope=col>minute</th><th scope=col>time_hour</th><th scope=col>origin</th><th scope=col>dest</th></tr></thead>\n",
       "<tbody>\n",
       "\t<tr><td>2013               </td><td>9                  </td><td>30                 </td><td>NA                 </td><td>1455               </td><td>NA                 </td><td>NA                 </td><td>1634               </td><td>NA                 </td><td>9E                 </td><td>3393               </td><td>NA                 </td><td>NA                 </td><td>213                </td><td>14                 </td><td>55                 </td><td>2013-09-30 18:00:00</td><td>JFK                </td><td>DCA                </td></tr>\n",
       "\t<tr><td>2013               </td><td>9                  </td><td>30                 </td><td>NA                 </td><td>2200               </td><td>NA                 </td><td>NA                 </td><td>2312               </td><td>NA                 </td><td>9E                 </td><td>3525               </td><td>NA                 </td><td>NA                 </td><td>198                </td><td>22                 </td><td> 0                 </td><td>2013-10-01 02:00:00</td><td>LGA                </td><td>SYR                </td></tr>\n",
       "\t<tr><td>2013               </td><td>9                  </td><td>30                 </td><td>NA                 </td><td>1210               </td><td>NA                 </td><td>NA                 </td><td>1330               </td><td>NA                 </td><td>MQ                 </td><td>3461               </td><td>N535MQ             </td><td>NA                 </td><td>764                </td><td>12                 </td><td>10                 </td><td>2013-09-30 16:00:00</td><td>LGA                </td><td>BNA                </td></tr>\n",
       "\t<tr><td>2013               </td><td>9                  </td><td>30                 </td><td>NA                 </td><td>1159               </td><td>NA                 </td><td>NA                 </td><td>1344               </td><td>NA                 </td><td>MQ                 </td><td>3572               </td><td>N511MQ             </td><td>NA                 </td><td>419                </td><td>11                 </td><td>59                 </td><td>2013-09-30 15:00:00</td><td>LGA                </td><td>CLE                </td></tr>\n",
       "\t<tr><td>2013               </td><td>9                  </td><td>30                 </td><td>NA                 </td><td> 840               </td><td>NA                 </td><td>NA                 </td><td>1020               </td><td>NA                 </td><td>MQ                 </td><td>3531               </td><td>N839MQ             </td><td>NA                 </td><td>431                </td><td> 8                 </td><td>40                 </td><td>2013-09-30 12:00:00</td><td>LGA                </td><td>RDU                </td></tr>\n",
       "</tbody>\n",
       "</table>\n"
      ],
      "text/latex": [
       "\\begin{tabular}{r|lllllllllllllllllll}\n",
       " year & month & day & dep\\_time & sched\\_dep\\_time & dep\\_delay & arr\\_time & sched\\_arr\\_time & arr\\_delay & carrier & flight & tailnum & air\\_time & distance & hour & minute & time\\_hour & origin & dest\\\\\n",
       "\\hline\n",
       "\t 2013                & 9                   & 30                  & NA                  & 1455                & NA                  & NA                  & 1634                & NA                  & 9E                  & 3393                & NA                  & NA                  & 213                 & 14                  & 55                  & 2013-09-30 18:00:00 & JFK                 & DCA                \\\\\n",
       "\t 2013                & 9                   & 30                  & NA                  & 2200                & NA                  & NA                  & 2312                & NA                  & 9E                  & 3525                & NA                  & NA                  & 198                 & 22                  &  0                  & 2013-10-01 02:00:00 & LGA                 & SYR                \\\\\n",
       "\t 2013                & 9                   & 30                  & NA                  & 1210                & NA                  & NA                  & 1330                & NA                  & MQ                  & 3461                & N535MQ              & NA                  & 764                 & 12                  & 10                  & 2013-09-30 16:00:00 & LGA                 & BNA                \\\\\n",
       "\t 2013                & 9                   & 30                  & NA                  & 1159                & NA                  & NA                  & 1344                & NA                  & MQ                  & 3572                & N511MQ              & NA                  & 419                 & 11                  & 59                  & 2013-09-30 15:00:00 & LGA                 & CLE                \\\\\n",
       "\t 2013                & 9                   & 30                  & NA                  &  840                & NA                  & NA                  & 1020                & NA                  & MQ                  & 3531                & N839MQ              & NA                  & 431                 &  8                  & 40                  & 2013-09-30 12:00:00 & LGA                 & RDU                \\\\\n",
       "\\end{tabular}\n"
      ],
      "text/markdown": [
       "\n",
       "| year | month | day | dep_time | sched_dep_time | dep_delay | arr_time | sched_arr_time | arr_delay | carrier | flight | tailnum | air_time | distance | hour | minute | time_hour | origin | dest |\n",
       "|---|---|---|---|---|---|---|---|---|---|---|---|---|---|---|---|---|---|---|\n",
       "| 2013                | 9                   | 30                  | NA                  | 1455                | NA                  | NA                  | 1634                | NA                  | 9E                  | 3393                | NA                  | NA                  | 213                 | 14                  | 55                  | 2013-09-30 18:00:00 | JFK                 | DCA                 |\n",
       "| 2013                | 9                   | 30                  | NA                  | 2200                | NA                  | NA                  | 2312                | NA                  | 9E                  | 3525                | NA                  | NA                  | 198                 | 22                  |  0                  | 2013-10-01 02:00:00 | LGA                 | SYR                 |\n",
       "| 2013                | 9                   | 30                  | NA                  | 1210                | NA                  | NA                  | 1330                | NA                  | MQ                  | 3461                | N535MQ              | NA                  | 764                 | 12                  | 10                  | 2013-09-30 16:00:00 | LGA                 | BNA                 |\n",
       "| 2013                | 9                   | 30                  | NA                  | 1159                | NA                  | NA                  | 1344                | NA                  | MQ                  | 3572                | N511MQ              | NA                  | 419                 | 11                  | 59                  | 2013-09-30 15:00:00 | LGA                 | CLE                 |\n",
       "| 2013                | 9                   | 30                  | NA                  |  840                | NA                  | NA                  | 1020                | NA                  | MQ                  | 3531                | N839MQ              | NA                  | 431                 |  8                  | 40                  | 2013-09-30 12:00:00 | LGA                 | RDU                 |\n",
       "\n"
      ],
      "text/plain": [
       "  year month day dep_time sched_dep_time dep_delay arr_time sched_arr_time\n",
       "1 2013 9     30  NA       1455           NA        NA       1634          \n",
       "2 2013 9     30  NA       2200           NA        NA       2312          \n",
       "3 2013 9     30  NA       1210           NA        NA       1330          \n",
       "4 2013 9     30  NA       1159           NA        NA       1344          \n",
       "5 2013 9     30  NA        840           NA        NA       1020          \n",
       "  arr_delay carrier flight tailnum air_time distance hour minute\n",
       "1 NA        9E      3393   NA      NA       213      14   55    \n",
       "2 NA        9E      3525   NA      NA       198      22    0    \n",
       "3 NA        MQ      3461   N535MQ  NA       764      12   10    \n",
       "4 NA        MQ      3572   N511MQ  NA       419      11   59    \n",
       "5 NA        MQ      3531   N839MQ  NA       431       8   40    \n",
       "  time_hour           origin dest\n",
       "1 2013-09-30 18:00:00 JFK    DCA \n",
       "2 2013-10-01 02:00:00 LGA    SYR \n",
       "3 2013-09-30 16:00:00 LGA    BNA \n",
       "4 2013-09-30 15:00:00 LGA    CLE \n",
       "5 2013-09-30 12:00:00 LGA    RDU "
      ]
     },
     "metadata": {},
     "output_type": "display_data"
    },
    {
     "data": {
      "text/html": [
       "<table>\n",
       "<thead><tr><th scope=col>year</th><th scope=col>month</th><th scope=col>day</th><th scope=col>dep_time</th><th scope=col>sched_dep_time</th><th scope=col>dep_delay</th><th scope=col>arr_time</th><th scope=col>sched_arr_time</th><th scope=col>arr_delay</th><th scope=col>carrier</th><th scope=col>flight</th><th scope=col>tailnum</th><th scope=col>air_time</th><th scope=col>distance</th><th scope=col>hour</th><th scope=col>minute</th><th scope=col>time_hour</th><th scope=col>origin</th><th scope=col>dest</th></tr></thead>\n",
       "<tbody>\n",
       "\t<tr><td>2013               </td><td> 7                 </td><td>25                 </td><td>1110               </td><td>1110               </td><td>  0                </td><td>1413               </td><td>1413               </td><td>  0                </td><td>DL                 </td><td>1875               </td><td>N318US             </td><td>147                </td><td>1010               </td><td>11                 </td><td>10                 </td><td>2013-07-25 15:00:00</td><td>LGA                </td><td>TPA                </td></tr>\n",
       "\t<tr><td>2013               </td><td> 2                 </td><td>19                 </td><td>1604               </td><td>1538               </td><td> 26                </td><td>1932               </td><td>1857               </td><td> 35                </td><td>B6                 </td><td> 137               </td><td>N630JB             </td><td>166                </td><td>1074               </td><td>15                 </td><td>38                 </td><td>2013-02-19 20:00:00</td><td>JFK                </td><td>RSW                </td></tr>\n",
       "\t<tr><td>2013               </td><td> 1                 </td><td> 3                 </td><td>1920               </td><td>1920               </td><td>  0                </td><td>2158               </td><td>2258               </td><td>-60                </td><td>DL                 </td><td>   6               </td><td>N3768              </td><td>250                </td><td>1990               </td><td>19                 </td><td>20                 </td><td>2013-01-04 00:00:00</td><td>JFK                </td><td>SLC                </td></tr>\n",
       "\t<tr><td>2013               </td><td> 7                 </td><td> 1                 </td><td>2120               </td><td>1930               </td><td>110                </td><td>   7               </td><td>2222               </td><td>105                </td><td>DL                 </td><td>1485               </td><td>N394DA             </td><td>142                </td><td> 950               </td><td>19                 </td><td>30                 </td><td>2013-07-01 23:00:00</td><td>LGA                </td><td>MCO                </td></tr>\n",
       "\t<tr><td>2013               </td><td>11                 </td><td> 4                 </td><td>1448               </td><td>1450               </td><td> -2                </td><td>1733               </td><td>1745               </td><td>-12                </td><td>UA                 </td><td> 370               </td><td>N474UA             </td><td>131                </td><td> 937               </td><td>14                 </td><td>50                 </td><td>2013-11-04 19:00:00</td><td>EWR                </td><td>MCO                </td></tr>\n",
       "</tbody>\n",
       "</table>\n"
      ],
      "text/latex": [
       "\\begin{tabular}{r|lllllllllllllllllll}\n",
       " year & month & day & dep\\_time & sched\\_dep\\_time & dep\\_delay & arr\\_time & sched\\_arr\\_time & arr\\_delay & carrier & flight & tailnum & air\\_time & distance & hour & minute & time\\_hour & origin & dest\\\\\n",
       "\\hline\n",
       "\t 2013                &  7                  & 25                  & 1110                & 1110                &   0                 & 1413                & 1413                &   0                 & DL                  & 1875                & N318US              & 147                 & 1010                & 11                  & 10                  & 2013-07-25 15:00:00 & LGA                 & TPA                \\\\\n",
       "\t 2013                &  2                  & 19                  & 1604                & 1538                &  26                 & 1932                & 1857                &  35                 & B6                  &  137                & N630JB              & 166                 & 1074                & 15                  & 38                  & 2013-02-19 20:00:00 & JFK                 & RSW                \\\\\n",
       "\t 2013                &  1                  &  3                  & 1920                & 1920                &   0                 & 2158                & 2258                & -60                 & DL                  &    6                & N3768               & 250                 & 1990                & 19                  & 20                  & 2013-01-04 00:00:00 & JFK                 & SLC                \\\\\n",
       "\t 2013                &  7                  &  1                  & 2120                & 1930                & 110                 &    7                & 2222                & 105                 & DL                  & 1485                & N394DA              & 142                 &  950                & 19                  & 30                  & 2013-07-01 23:00:00 & LGA                 & MCO                \\\\\n",
       "\t 2013                & 11                  &  4                  & 1448                & 1450                &  -2                 & 1733                & 1745                & -12                 & UA                  &  370                & N474UA              & 131                 &  937                & 14                  & 50                  & 2013-11-04 19:00:00 & EWR                 & MCO                \\\\\n",
       "\\end{tabular}\n"
      ],
      "text/markdown": [
       "\n",
       "| year | month | day | dep_time | sched_dep_time | dep_delay | arr_time | sched_arr_time | arr_delay | carrier | flight | tailnum | air_time | distance | hour | minute | time_hour | origin | dest |\n",
       "|---|---|---|---|---|---|---|---|---|---|---|---|---|---|---|---|---|---|---|\n",
       "| 2013                |  7                  | 25                  | 1110                | 1110                |   0                 | 1413                | 1413                |   0                 | DL                  | 1875                | N318US              | 147                 | 1010                | 11                  | 10                  | 2013-07-25 15:00:00 | LGA                 | TPA                 |\n",
       "| 2013                |  2                  | 19                  | 1604                | 1538                |  26                 | 1932                | 1857                |  35                 | B6                  |  137                | N630JB              | 166                 | 1074                | 15                  | 38                  | 2013-02-19 20:00:00 | JFK                 | RSW                 |\n",
       "| 2013                |  1                  |  3                  | 1920                | 1920                |   0                 | 2158                | 2258                | -60                 | DL                  |    6                | N3768               | 250                 | 1990                | 19                  | 20                  | 2013-01-04 00:00:00 | JFK                 | SLC                 |\n",
       "| 2013                |  7                  |  1                  | 2120                | 1930                | 110                 |    7                | 2222                | 105                 | DL                  | 1485                | N394DA              | 142                 |  950                | 19                  | 30                  | 2013-07-01 23:00:00 | LGA                 | MCO                 |\n",
       "| 2013                | 11                  |  4                  | 1448                | 1450                |  -2                 | 1733                | 1745                | -12                 | UA                  |  370                | N474UA              | 131                 |  937                | 14                  | 50                  | 2013-11-04 19:00:00 | EWR                 | MCO                 |\n",
       "\n"
      ],
      "text/plain": [
       "  year month day dep_time sched_dep_time dep_delay arr_time sched_arr_time\n",
       "1 2013  7    25  1110     1110             0       1413     1413          \n",
       "2 2013  2    19  1604     1538            26       1932     1857          \n",
       "3 2013  1     3  1920     1920             0       2158     2258          \n",
       "4 2013  7     1  2120     1930           110          7     2222          \n",
       "5 2013 11     4  1448     1450            -2       1733     1745          \n",
       "  arr_delay carrier flight tailnum air_time distance hour minute\n",
       "1   0       DL      1875   N318US  147      1010     11   10    \n",
       "2  35       B6       137   N630JB  166      1074     15   38    \n",
       "3 -60       DL         6   N3768   250      1990     19   20    \n",
       "4 105       DL      1485   N394DA  142       950     19   30    \n",
       "5 -12       UA       370   N474UA  131       937     14   50    \n",
       "  time_hour           origin dest\n",
       "1 2013-07-25 15:00:00 LGA    TPA \n",
       "2 2013-02-19 20:00:00 JFK    RSW \n",
       "3 2013-01-04 00:00:00 JFK    SLC \n",
       "4 2013-07-01 23:00:00 LGA    MCO \n",
       "5 2013-11-04 19:00:00 EWR    MCO "
      ]
     },
     "metadata": {},
     "output_type": "display_data"
    }
   ],
   "source": [
    "print(final)\n",
    "head(final, 5)\n",
    "tail(final, 5)\n",
    "sample_n(final, 5)"
   ]
  },
  {
   "cell_type": "markdown",
   "metadata": {},
   "source": [
    "### END."
   ]
  }
 ],
 "metadata": {
  "kernelspec": {
   "display_name": "R",
   "language": "R",
   "name": "ir"
  },
  "language_info": {
   "codemirror_mode": "r",
   "file_extension": ".r",
   "mimetype": "text/x-r-source",
   "name": "R",
   "pygments_lexer": "r",
   "version": "3.6.1"
  }
 },
 "nbformat": 4,
 "nbformat_minor": 2
}
